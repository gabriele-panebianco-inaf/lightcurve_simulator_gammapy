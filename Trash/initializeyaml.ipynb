{
 "cells": [
  {
   "cell_type": "markdown",
   "id": "8d767478",
   "metadata": {},
   "source": [
    "# Initialization files"
   ]
  },
  {
   "cell_type": "code",
   "execution_count": 1,
   "id": "55006748",
   "metadata": {},
   "outputs": [],
   "source": [
    "import matplotlib.pyplot as plt\n",
    "from matplotlib.colors import LogNorm, PowerNorm\n",
    "\n",
    "import numpy as np\n",
    "\n",
    "import astropy.units as u\n",
    "from astropy.coordinates import SkyCoord\n",
    "from astropy.time import Time\n",
    "from astropy.table import Table, QTable, hstack\n",
    "from astropy.io import fits\n",
    "\n",
    "import logging\n",
    "\n",
    "import os\n",
    "\n",
    "import yaml\n",
    "from yaml.loader import SafeLoader\n"
   ]
  },
  {
   "cell_type": "code",
   "execution_count": 6,
   "id": "82d43c44",
   "metadata": {},
   "outputs": [],
   "source": [
    "yaml_file = \"/home/gabriele/Documents/gammapy/LCsim/Input/example.yaml\"\n",
    "# Open the file and load the file\n",
    "with open(yaml_file) as f:\n",
    "    data = yaml.load(f, Loader = SafeLoader)\n",
    "#data"
   ]
  },
  {
   "cell_type": "code",
   "execution_count": 7,
   "id": "ea963de0",
   "metadata": {},
   "outputs": [],
   "source": [
    "file_bak = data['Input_bak']\n",
    "file_rsp = data['Input_rsp']\n",
    "\n",
    "INTERP       = data['Energy_interpolation']\n",
    "slice_energy = data['Energy_slice']\n",
    "energy_unit = u.Unit(data[\"Energy_unit\"])\n",
    "custom_range_energy_reco = tuple(data['Energy_range_reco']) * energy_unit\n",
    "custom_range_energy_true = tuple(data['Energy_range_true']) * energy_unit\n",
    "\n",
    "GBM_original_name = data['Input_lightcurve']\n",
    "\n",
    "time_unit = u.Unit(data['Time_unit'])\n",
    "\n",
    "spectral_fit_time_range = data['Specfit_time_range'] * time_unit\n",
    "\n",
    "GBM_Ampli = data['Specfit_amplitude'] * u.Unit(data['Specfit_amplitude_unit'])\n",
    "GBM_Index = data['Specfit_index'] * u.Unit(\"\")\n",
    "GBM_Epeak = data['Specfit_epeak'] * energy_unit\n",
    "GBM_Erefe = data['Specfit_erefe'] * energy_unit\n",
    "\n",
    "t_start_obs= data['Observation_time_start'] * time_unit\n",
    "t_stop_obs = data['Observation_time_stop' ] * time_unit\n",
    "live_t_obs = data['Observation_livetimes' ] * time_unit\n",
    "dead_times = data['Observation_deadtimes' ] * time_unit\n",
    "\n",
    "Number_of_LightCurves = data['N_light_curves']\n",
    "\n",
    "title_name_transient = data['Name_GRB']\n",
    "\n",
    "title_name_instrument = data['Name_instrument'] + ' ' + data['Name_detector']\n",
    "\n",
    "# Create Output Directory\n",
    "\n",
    "output_directory = data['Output_directory']\n",
    "output_directory+= data['Name_GRB'] + '/'\n",
    "output_directory+= data['Name_instrument'] + '_' + data['Name_detector'] + '_'\n",
    "output_directory+= str(int(live_t_obs.to('ms').value)) + 'ms_'\n",
    "output_directory+= str(int(custom_range_energy_reco.value[0])) + '_'\n",
    "output_directory+= str(int(custom_range_energy_reco.value[1])) + '_'\n",
    "output_directory+= energy_unit.to_string()+'/'\n",
    "\n",
    "if data['Output_run_id'] is not None:\n",
    "    output_directory += data['Output_run_id']+'/'\n",
    "\n",
    "os.makedirs(os.path.dirname(output_directory), exist_ok=True)\n"
   ]
  },
  {
   "cell_type": "code",
   "execution_count": null,
   "id": "afb827a7",
   "metadata": {},
   "outputs": [],
   "source": []
  }
 ],
 "metadata": {
  "kernelspec": {
   "display_name": "Python 3 (ipykernel)",
   "language": "python",
   "name": "python3"
  },
  "language_info": {
   "codemirror_mode": {
    "name": "ipython",
    "version": 3
   },
   "file_extension": ".py",
   "mimetype": "text/x-python",
   "name": "python",
   "nbconvert_exporter": "python",
   "pygments_lexer": "ipython3",
   "version": "3.8.13"
  }
 },
 "nbformat": 4,
 "nbformat_minor": 5
}
