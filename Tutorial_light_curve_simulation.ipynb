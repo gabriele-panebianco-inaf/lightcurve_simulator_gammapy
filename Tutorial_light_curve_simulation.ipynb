{
 "cells": [
  {
   "cell_type": "markdown",
   "id": "8dbfd2f2",
   "metadata": {},
   "source": [
    "# Simulating and fitting a time varying source\n",
    "\n",
    "## Prerequisites\n",
    "\n",
    "- To understand how a single binned simulation works, please refer to [spectrum_simulation](../1D/spectrum_simulation.ipynb) [simulate_3d](../3D/simulate_3d.ipynb) for 1D and 3D simulations respectively.\n",
    "- For details of light curve extraction using gammapy, refer to the two tutorials [light_curve](light_curve.ipynb) and [light_curve_flare](light_curve_flare.ipynb) \n",
    "\n",
    "## Context\n",
    "\n",
    "Frequently, studies of variable sources (eg: decaying GRB light curves, AGN flares, etc) require time variable simulations. For most use cases, generating an event list is an overkill, and it suffices to use binned simulations using a temporal model.\n",
    "\n",
    "**Objective: Simulate and fit a time decaying light curve of a source with CTA using the CTA 1DC response**\n",
    "\n",
    "## Proposed approach\n",
    "\n",
    "We will simulate 10 spectral datasets within given time intervals (Good Time Intervals) following a given spectral (a power law) and temporal profile (an exponential decay, with a decay time of 6 hr ). These are then analysed using the light curve estimator to obtain flux points. \n",
    "\n",
    "Modelling and fitting of lightcurves can be done either\n",
    "- directly on the output of the `LighCurveEstimator` (at the DL5 level)\n",
    "- fit the simulated datasets (at the DL4 level)\n",
    "\n",
    "In summary, necessary steps are:\n",
    "\n",
    "- Choose observation parameters including a list of `gammapy.data.GTI`\n",
    "- Define temporal and spectral models from :ref:model-gallery as per science case\n",
    "- Perform the simulation (in 1D or 3D)\n",
    "- Extract the light curve from the reduced dataset as shown in [light curve notebook](light_curve.ipynb)\n",
    "- Optionally, we show here how to fit the simulated datasets using a source model \n",
    "\n",
    "\n",
    "## Setup \n",
    "\n",
    "As usual, we'll start with some general imports..."
   ]
  },
  {
   "cell_type": "markdown",
   "id": "9f253c65",
   "metadata": {},
   "source": [
    "## Setup"
   ]
  },
  {
   "cell_type": "code",
   "execution_count": 1,
   "id": "f538de1c",
   "metadata": {},
   "outputs": [],
   "source": [
    "%matplotlib inline\n",
    "import matplotlib.pyplot as plt\n",
    "import numpy as np\n",
    "import astropy.units as u\n",
    "from astropy.coordinates import SkyCoord\n",
    "from astropy.time import Time\n",
    "\n",
    "import logging\n",
    "\n",
    "log = logging.getLogger(__name__)"
   ]
  },
  {
   "cell_type": "markdown",
   "id": "5ed3ee18",
   "metadata": {},
   "source": [
    "And some gammapy specific imports"
   ]
  },
  {
   "cell_type": "code",
   "execution_count": 2,
   "id": "605ca49b",
   "metadata": {},
   "outputs": [],
   "source": [
    "from gammapy.data import Observation\n",
    "from gammapy.irf import load_cta_irfs\n",
    "from gammapy.datasets import SpectrumDataset, Datasets, FluxPointsDataset\n",
    "from gammapy.modeling.models import (\n",
    "    PowerLawSpectralModel,\n",
    "    ExpDecayTemporalModel,\n",
    "    SkyModel,\n",
    ")\n",
    "from gammapy.maps import MapAxis, RegionGeom, TimeMapAxis\n",
    "from gammapy.estimators import LightCurveEstimator\n",
    "from gammapy.makers import SpectrumDatasetMaker\n",
    "from gammapy.modeling import Fit\n",
    "from gammapy.data import observatory_locations"
   ]
  },
  {
   "cell_type": "markdown",
   "id": "afc4289b",
   "metadata": {},
   "source": [
    "We first define our preferred time format:"
   ]
  },
  {
   "cell_type": "code",
   "execution_count": 3,
   "id": "c3f88ee3",
   "metadata": {},
   "outputs": [],
   "source": [
    "TimeMapAxis.time_format = \"iso\""
   ]
  },
  {
   "cell_type": "markdown",
   "id": "3a9c7cbf",
   "metadata": {},
   "source": [
    "## Simulating a light curve\n",
    "\n",
    "We will simulate 10  spectra between 300 GeV and 10 TeV using an `PowerLawSpectralModel` and a `ExpDecayTemporalModel`. The important thing to note here is how to attach a different `GTI` to each dataset. Since we use spectrum datasets here, we will use a `RegionGeom`."
   ]
  },
  {
   "cell_type": "code",
   "execution_count": 4,
   "id": "7c9f7f72",
   "metadata": {},
   "outputs": [
    {
     "name": "stderr",
     "output_type": "stream",
     "text": [
      "Invalid unit found in background table! Assuming (s-1 MeV-1 sr-1)\n"
     ]
    }
   ],
   "source": [
    "# Loading IRFs\n",
    "irfs = load_cta_irfs(\n",
    "    \"$GAMMAPY_DATA/cta-1dc/caldb/data/cta/1dc/bcf/South_z20_50h/irf_file.fits\"\n",
    ")"
   ]
  },
  {
   "cell_type": "code",
   "execution_count": 5,
   "id": "0dbd248f",
   "metadata": {},
   "outputs": [],
   "source": [
    "# bkg = irfs['bkg']\n",
    "\n",
    "# print(bkg,'\\n',\n",
    "#       bkg.default_interp_kwargs,'\\n',\n",
    "#       bkg.default_unit,'\\n',\n",
    "#       bkg.fov_alignment,'\\n',\n",
    "#       'Has offset axis',bkg.has_offset_axis,'\\n',\n",
    "#       'Is_pointlike',bkg.is_pointlike,'\\n',\n",
    "#       bkg.required_axes,'\\n',\n",
    "#       bkg.tag,'\\n',\n",
    "#       bkg.unit,'\\n',\n",
    "#      )\n",
    "\n",
    "# irfs['bkg'].peek()"
   ]
  },
  {
   "cell_type": "code",
   "execution_count": 6,
   "id": "9929b19d",
   "metadata": {},
   "outputs": [],
   "source": [
    "# Reconstructed and true energy axis\n",
    "energy_axis = MapAxis.from_edges(\n",
    "    np.logspace(-0.5, 1.0, 10), unit=\"TeV\", name=\"energy\", interp=\"log\"\n",
    ")\n",
    "energy_axis_true = MapAxis.from_edges(\n",
    "    np.logspace(-1.2, 2.0, 31), unit=\"TeV\", name=\"energy_true\", interp=\"log\"\n",
    ")\n",
    "\n",
    "geom = RegionGeom.create(\"galactic;circle(0, 0, 0.11)\", axes=[energy_axis])"
   ]
  },
  {
   "cell_type": "code",
   "execution_count": 7,
   "id": "5d1c911b",
   "metadata": {},
   "outputs": [],
   "source": [
    "# Pointing position\n",
    "pointing = SkyCoord(0.5, 0.5, unit=\"deg\", frame=\"galactic\")"
   ]
  },
  {
   "cell_type": "markdown",
   "id": "8c7d0614",
   "metadata": {},
   "source": [
    "Note that observations are usually conducted in  Wobble mode, in which the source is not in the center of the camera. This allows to have a symmetrical sky position from which background can be estimated."
   ]
  },
  {
   "cell_type": "code",
   "execution_count": 8,
   "id": "c82ee57b",
   "metadata": {},
   "outputs": [
    {
     "name": "stderr",
     "output_type": "stream",
     "text": [
      "/home/gabriele/anaconda3/envs/gammapy-0.20/lib/python3.8/site-packages/astropy/units/quantity.py:613: RuntimeWarning: overflow encountered in exp\n",
      "  result = super().__array_ufunc__(function, method, *arrays, **kwargs)\n",
      "/home/gabriele/anaconda3/envs/gammapy-0.20/lib/python3.8/site-packages/astropy/units/quantity.py:613: RuntimeWarning: invalid value encountered in subtract\n",
      "  result = super().__array_ufunc__(function, method, *arrays, **kwargs)\n"
     ]
    }
   ],
   "source": [
    "# Define the source model: A combination of spectral and temporal model\n",
    "\n",
    "gti_t0 = Time(\"2020-03-01\")\n",
    "spectral_model = PowerLawSpectralModel(\n",
    "    index=3, amplitude=\"1e-11 cm-2 s-1 TeV-1\", reference=\"1 TeV\"\n",
    ")\n",
    "temporal_model = ExpDecayTemporalModel(t0=\"6 h\", t_ref=gti_t0.mjd * u.d)\n",
    "\n",
    "model_simu = SkyModel(\n",
    "    spectral_model=spectral_model,\n",
    "    temporal_model=temporal_model,\n",
    "    name=\"model-simu\",\n",
    ")"
   ]
  },
  {
   "cell_type": "code",
   "execution_count": 9,
   "id": "1154058f",
   "metadata": {},
   "outputs": [
    {
     "data": {
      "text/html": [
       "<div><i>Table length=5</i>\n",
       "<table id=\"table139820999346832\" class=\"table-striped table-bordered table-condensed\">\n",
       "<thead><tr><th>type</th><th>name</th><th>value</th><th>unit</th><th>error</th><th>min</th><th>max</th><th>frozen</th><th>is_norm</th><th>link</th></tr></thead>\n",
       "<thead><tr><th>str8</th><th>str9</th><th>float64</th><th>str14</th><th>int64</th><th>float64</th><th>float64</th><th>bool</th><th>bool</th><th>str1</th></tr></thead>\n",
       "<tr><td>spectral</td><td>index</td><td>3.0000e+00</td><td></td><td>0.000e+00</td><td>nan</td><td>nan</td><td>False</td><td>False</td><td></td></tr>\n",
       "<tr><td>spectral</td><td>amplitude</td><td>1.0000e-11</td><td>cm-2 s-1 TeV-1</td><td>0.000e+00</td><td>nan</td><td>nan</td><td>False</td><td>True</td><td></td></tr>\n",
       "<tr><td>spectral</td><td>reference</td><td>1.0000e+00</td><td>TeV</td><td>0.000e+00</td><td>nan</td><td>nan</td><td>True</td><td>False</td><td></td></tr>\n",
       "<tr><td>temporal</td><td>t0</td><td>6.0000e+00</td><td>h</td><td>0.000e+00</td><td>nan</td><td>nan</td><td>False</td><td>False</td><td></td></tr>\n",
       "<tr><td>temporal</td><td>t_ref</td><td>5.8909e+04</td><td>d</td><td>0.000e+00</td><td>nan</td><td>nan</td><td>True</td><td>False</td><td></td></tr>\n",
       "</table></div>"
      ],
      "text/plain": [
       "<Table length=5>\n",
       "  type      name     value         unit        error     min     max   frozen is_norm link\n",
       "  str8      str9    float64       str14        int64   float64 float64  bool    bool  str1\n",
       "-------- --------- ---------- -------------- --------- ------- ------- ------ ------- ----\n",
       "spectral     index 3.0000e+00                0.000e+00     nan     nan  False   False     \n",
       "spectral amplitude 1.0000e-11 cm-2 s-1 TeV-1 0.000e+00     nan     nan  False    True     \n",
       "spectral reference 1.0000e+00            TeV 0.000e+00     nan     nan   True   False     \n",
       "temporal        t0 6.0000e+00              h 0.000e+00     nan     nan  False   False     \n",
       "temporal     t_ref 5.8909e+04              d 0.000e+00     nan     nan   True   False     "
      ]
     },
     "execution_count": 9,
     "metadata": {},
     "output_type": "execute_result"
    }
   ],
   "source": [
    "# Look at the model\n",
    "model_simu.parameters.to_table()"
   ]
  },
  {
   "cell_type": "markdown",
   "id": "fc68a829",
   "metadata": {},
   "source": [
    "Now, define the start and observation livetime wrt to the reference time, `gti_t0`"
   ]
  },
  {
   "cell_type": "code",
   "execution_count": 29,
   "id": "d9c453f5",
   "metadata": {},
   "outputs": [],
   "source": [
    "n_obs = 10\n",
    "\n",
    "tstart = gti_t0 + [1, 2, 3, 5, 8, 10, 20, 22, 23, 24] * u.h\n",
    "lvtm = [55, 25, 26, 40, 40, 50, 40, 52, 43, 47] * u.min"
   ]
  },
  {
   "cell_type": "markdown",
   "id": "bea67428",
   "metadata": {},
   "source": [
    "Now perform the simulations"
   ]
  },
  {
   "cell_type": "code",
   "execution_count": 148,
   "id": "c7f43f8c",
   "metadata": {
    "scrolled": false
   },
   "outputs": [
    {
     "name": "stdout",
     "output_type": "stream",
     "text": [
      "[[[299.95010833]]\n",
      "\n",
      " [[206.99122739]]\n",
      "\n",
      " [[104.07355607]]\n",
      "\n",
      " [[ 78.67716739]]\n",
      "\n",
      " [[ 45.14854923]]\n",
      "\n",
      " [[ 35.51594782]]\n",
      "\n",
      " [[ 18.67061877]]\n",
      "\n",
      " [[ 10.96310337]]\n",
      "\n",
      " [[  5.63137972]]]\n"
     ]
    }
   ],
   "source": [
    "from gammapy.utils.random import get_random_state\n",
    "empty = SpectrumDataset.create(geom = geom,\n",
    "                               energy_axis_true = energy_axis_true,\n",
    "                               name = \"try\"\n",
    "                              )\n",
    "\n",
    "maker = SpectrumDatasetMaker(selection = [\"exposure\",\n",
    "                                          \"background\",\n",
    "                                          \"edisp\"\n",
    "                                         ]\n",
    "                            )\n",
    "\n",
    "idx = 0\n",
    "obs = Observation.create(pointing = pointing,\n",
    "                         livetime = lvtm[idx],\n",
    "                         tstart = tstart[idx],\n",
    "                         irfs = irfs,\n",
    "                         reference_time = gti_t0,\n",
    "                         obs_id = idx,\n",
    "                         location = observatory_locations[\"cta_south\"]\n",
    "                        )\n",
    "\n",
    "# Let's compute precdicted background (constant)\n",
    "dataset = maker.run(empty, obs)\n",
    "\n",
    "# # Introduce Background fluctuation (Poisson)\n",
    "# random_state = get_random_state('random-seed')\n",
    "\n",
    "# data = np.nan_to_num(dataset.npred_background().data,\n",
    "#                      copy = True,\n",
    "#                      nan = 0.0,\n",
    "#                      posinf = 0.0,\n",
    "#                      neginf = 0.0\n",
    "#                     )\n",
    "# data = random_state.poisson(data)\n",
    "# dataset.npred_background().data = data\n",
    "# dataset.background = dataset.npred_background()\n",
    "# print(dataset)\n",
    "\n",
    "# Attach the Model: fix the Predicted Excess\n",
    "\n",
    "dataset.models = model_simu\n",
    "\n",
    "print(dataset.npred_signal().data)\n",
    "\n",
    "# Simulate Counts from Poisson(Predicted Excess + Predicted Background)\n",
    "# dataset.fake()\n",
    "\n",
    "#print(dataset)\n"
   ]
  },
  {
   "cell_type": "code",
   "execution_count": 150,
   "id": "74584605",
   "metadata": {},
   "outputs": [
    {
     "name": "stdout",
     "output_type": "stream",
     "text": [
      "SpectrumDataset\n",
      "---------------\n",
      "\n",
      "  Name                            : dataset-0 \n",
      "\n",
      "  Total counts                    : 775 \n",
      "  Total background counts         : 20.32\n",
      "  Total excess counts             : 754.68\n",
      "\n",
      "  Predicted counts                : 825.94\n",
      "  Predicted background counts     : 20.32\n",
      "  Predicted excess counts         : 805.62\n",
      "\n",
      "  Exposure min                    : 2.16e+08 m2 s\n",
      "  Exposure max                    : 1.60e+10 m2 s\n",
      "\n",
      "  Number of total bins            : 9 \n",
      "  Number of fit bins              : 9 \n",
      "\n",
      "  Fit statistic type              : cash\n",
      "  Fit statistic value (-2 log(L)) : -6135.73\n",
      "\n",
      "  Number of models                : 1 \n",
      "  Number of parameters            : 5\n",
      "  Number of free parameters       : 3\n",
      "\n",
      "  Component 0: SkyModel\n",
      "  \n",
      "    Name                      : model-simu\n",
      "    Datasets names            : None\n",
      "    Spectral model type       : PowerLawSpectralModel\n",
      "    Spatial  model type       : \n",
      "    Temporal model type       : ExpDecayTemporalModel\n",
      "    Parameters:\n",
      "      index                         :      3.000   +/-    0.00             \n",
      "      amplitude                     :   1.00e-11   +/- 0.0e+00 1 / (cm2 s TeV)\n",
      "      reference             (frozen):      1.000       TeV         \n",
      "      t0                            :      6.000   +/-    0.00 h           \n",
      "      t_ref                 (frozen):  58909.000       d           \n",
      "  \n",
      "  \n"
     ]
    }
   ],
   "source": [
    "print(datasets[0])"
   ]
  },
  {
   "cell_type": "code",
   "execution_count": 31,
   "id": "7832be93",
   "metadata": {},
   "outputs": [],
   "source": [
    "datasets = Datasets()\n",
    "\n",
    "empty = SpectrumDataset.create(\n",
    "    geom=geom, energy_axis_true=energy_axis_true, name=\"empty\"\n",
    ")\n",
    "\n",
    "maker = SpectrumDatasetMaker(selection=[\"exposure\", \"background\", \"edisp\"])\n",
    "\n",
    "\n",
    "for idx in range(n_obs):\n",
    "    obs = Observation.create(\n",
    "        pointing=pointing,\n",
    "        livetime=lvtm[idx],\n",
    "        tstart=tstart[idx],\n",
    "        irfs=irfs,\n",
    "        reference_time=gti_t0,\n",
    "        obs_id=idx,\n",
    "        location=observatory_locations[\"cta_south\"],\n",
    "    )\n",
    "    empty_i = empty.copy(name=f\"dataset-{idx}\")\n",
    "    dataset = maker.run(empty_i, obs)\n",
    "    dataset.models = model_simu\n",
    "    dataset.fake()\n",
    "    datasets.append(dataset)"
   ]
  },
  {
   "cell_type": "markdown",
   "id": "e6611a8e",
   "metadata": {},
   "source": [
    "The reduced datasets have been successfully simulated. Let's take a quick look into our datasets."
   ]
  },
  {
   "cell_type": "code",
   "execution_count": 33,
   "id": "9c94d2e5",
   "metadata": {},
   "outputs": [
    {
     "data": {
      "text/html": [
       "<div><i>Table length=10</i>\n",
       "<table id=\"table139820958746080\" class=\"table-striped table-bordered table-condensed\">\n",
       "<thead><tr><th>name</th><th>counts</th><th>excess</th><th>sqrt_ts</th><th>background</th><th>npred</th><th>npred_background</th><th>npred_signal</th><th>exposure_min</th><th>exposure_max</th><th>livetime</th><th>ontime</th><th>counts_rate</th><th>background_rate</th><th>excess_rate</th><th>n_bins</th><th>n_fit_bins</th><th>stat_type</th><th>stat_sum</th></tr></thead>\n",
       "<thead><tr><th></th><th></th><th></th><th></th><th></th><th></th><th></th><th></th><th>m2 s</th><th>m2 s</th><th>s</th><th>s</th><th>1 / s</th><th>1 / s</th><th>1 / s</th><th></th><th></th><th></th><th></th></tr></thead>\n",
       "<thead><tr><th>str9</th><th>int64</th><th>float64</th><th>float64</th><th>float64</th><th>float64</th><th>float64</th><th>float64</th><th>float64</th><th>float64</th><th>float64</th><th>float64</th><th>float64</th><th>float64</th><th>float64</th><th>int64</th><th>int64</th><th>str4</th><th>float64</th></tr></thead>\n",
       "<tr><td>dataset-0</td><td>775</td><td>754.6812133789062</td><td>64.301480445193</td><td>20.318769454956055</td><td>20.318769738078117</td><td>20.318769454956055</td><td>nan</td><td>216137904.0</td><td>16025275392.0</td><td>3299.9999999999973</td><td>3300.0</td><td>0.23484848484848506</td><td>0.006157202865138204</td><td>0.22869127678148693</td><td>9</td><td>9</td><td>cash</td><td>nan</td></tr>\n",
       "<tr><td>dataset-1</td><td>323</td><td>313.764195792777</td><td>40.84997380572502</td><td>9.235804207223023</td><td>332.14961280981925</td><td>9.235804207223023</td><td>322.9138086025962</td><td>98244500.9355637</td><td>7284216297.312288</td><td>1500.0000000000036</td><td>1500.0000000000036</td><td>0.21533333333333282</td><td>0.006157202804815334</td><td>0.2091761305285175</td><td>9</td><td>9</td><td>cash</td><td>-1967.150323980137</td></tr>\n",
       "<tr><td>dataset-2</td><td>283</td><td>273.39476362448806</td><td>36.98738784067027</td><td>9.605236375511943</td><td>293.4896025844399</td><td>9.605236375511943</td><td>283.884366208928</td><td>102174280.97298624</td><td>7575584949.204779</td><td>1560.0000000000036</td><td>1560.0000000000036</td><td>0.181410256410256</td><td>0.006157202804815334</td><td>0.17525305360544066</td><td>9</td><td>9</td><td>cash</td><td>-1666.4020420250047</td></tr>\n",
       "<tr><td>dataset-3</td><td>346</td><td>331.2227132684432</td><td>38.98295795892008</td><td>14.777286731556803</td><td>321.78385941878605</td><td>14.777286731556803</td><td>307.0065726872292</td><td>157191201.49690154</td><td>11654746075.699633</td><td>2400.0</td><td>2400.0</td><td>0.14416666666666667</td><td>0.006157202804815335</td><td>0.13800946386185134</td><td>9</td><td>9</td><td>cash</td><td>-2185.9149551508117</td></tr>\n",
       "<tr><td>dataset-4</td><td>194</td><td>179.2227132684432</td><td>25.309367956996965</td><td>14.777286731556803</td><td>200.98618579965654</td><td>14.777286731556803</td><td>186.2088990680997</td><td>157191201.49690154</td><td>11654746075.699633</td><td>2400.0</td><td>2400.0</td><td>0.08083333333333333</td><td>0.006157202804815335</td><td>0.074676130528518</td><td>9</td><td>9</td><td>cash</td><td>-980.9069307626726</td></tr>\n",
       "<tr><td>dataset-5</td><td>195</td><td>176.528391585554</td><td>23.79246612303794</td><td>18.471608414446003</td><td>182.99944272932842</td><td>18.471608414446003</td><td>164.5278343148824</td><td>196489001.87112692</td><td>14568432594.62454</td><td>3000.0</td><td>3000.0</td><td>0.065</td><td>0.006157202804815334</td><td>0.05884279719518467</td><td>9</td><td>9</td><td>cash</td><td>-1033.342878153287</td></tr>\n",
       "<tr><td>dataset-6</td><td>28</td><td>13.222713268443197</td><td>3.056944883537156</td><td>14.777286731556803</td><td>39.97792082811601</td><td>14.777286731556803</td><td>25.20063409655921</td><td>157191201.49690154</td><td>11654746075.699633</td><td>2400.0</td><td>2400.0</td><td>0.011666666666666667</td><td>0.006157202804815335</td><td>0.0055094638618513325</td><td>9</td><td>9</td><td>cash</td><td>-45.12897847782046</td></tr>\n",
       "<tr><td>dataset-7</td><td>44</td><td>24.789527248976157</td><td>4.832136350439279</td><td>19.210472751023843</td><td>42.30482881204877</td><td>19.210472751023843</td><td>23.094356061024925</td><td>204348561.945972</td><td>15151169898.409523</td><td>3120.0</td><td>3120.0</td><td>0.014102564102564103</td><td>0.006157202804815335</td><td>0.007945361297748768</td><td>9</td><td>9</td><td>cash</td><td>-105.55590939438575</td></tr>\n",
       "<tr><td>dataset-8</td><td>35</td><td>19.114416763576436</td><td>4.1311852962080895</td><td>15.885583236423562</td><td>32.249900502648174</td><td>15.885583236423562</td><td>16.36431726622461</td><td>168980541.60916916</td><td>12528852031.377106</td><td>2580.0</td><td>2580.0</td><td>0.013565891472868217</td><td>0.006157202804815334</td><td>0.007408688668052882</td><td>9</td><td>9</td><td>cash</td><td>-63.828627897476565</td></tr>\n",
       "<tr><td>dataset-9</td><td>31</td><td>13.636688090420758</td><td>2.9433897812702434</td><td>17.36331190957924</td><td>32.421835197089436</td><td>17.36331190957924</td><td>15.058523287510187</td><td>184699661.7588593</td><td>13694326638.94707</td><td>2820.0</td><td>2820.0</td><td>0.01099290780141844</td><td>0.006157202804815334</td><td>0.004835704996603106</td><td>9</td><td>9</td><td>cash</td><td>-34.56513614375406</td></tr>\n",
       "</table></div>"
      ],
      "text/plain": [
       "<Table length=10>\n",
       "   name   counts       excess            sqrt_ts           background           npred        ...      excess_rate      n_bins n_fit_bins stat_type       stat_sum     \n",
       "                                                                                             ...         1 / s                                                        \n",
       "   str9   int64       float64            float64            float64            float64       ...        float64        int64    int64       str4         float64      \n",
       "--------- ------ ------------------ ------------------ ------------------ ------------------ ... --------------------- ------ ---------- --------- -------------------\n",
       "dataset-0    775  754.6812133789062    64.301480445193 20.318769454956055 20.318769738078117 ...   0.22869127678148693      9          9      cash                 nan\n",
       "dataset-1    323   313.764195792777  40.84997380572502  9.235804207223023 332.14961280981925 ...    0.2091761305285175      9          9      cash  -1967.150323980137\n",
       "dataset-2    283 273.39476362448806  36.98738784067027  9.605236375511943  293.4896025844399 ...   0.17525305360544066      9          9      cash -1666.4020420250047\n",
       "dataset-3    346  331.2227132684432  38.98295795892008 14.777286731556803 321.78385941878605 ...   0.13800946386185134      9          9      cash -2185.9149551508117\n",
       "dataset-4    194  179.2227132684432 25.309367956996965 14.777286731556803 200.98618579965654 ...     0.074676130528518      9          9      cash  -980.9069307626726\n",
       "dataset-5    195   176.528391585554  23.79246612303794 18.471608414446003 182.99944272932842 ...   0.05884279719518467      9          9      cash  -1033.342878153287\n",
       "dataset-6     28 13.222713268443197  3.056944883537156 14.777286731556803  39.97792082811601 ... 0.0055094638618513325      9          9      cash  -45.12897847782046\n",
       "dataset-7     44 24.789527248976157  4.832136350439279 19.210472751023843  42.30482881204877 ...  0.007945361297748768      9          9      cash -105.55590939438575\n",
       "dataset-8     35 19.114416763576436 4.1311852962080895 15.885583236423562 32.249900502648174 ...  0.007408688668052882      9          9      cash -63.828627897476565\n",
       "dataset-9     31 13.636688090420758 2.9433897812702434  17.36331190957924 32.421835197089436 ...  0.004835704996603106      9          9      cash  -34.56513614375406"
      ]
     },
     "execution_count": 33,
     "metadata": {},
     "output_type": "execute_result"
    }
   ],
   "source": [
    "datasets.info_table()"
   ]
  },
  {
   "cell_type": "markdown",
   "id": "9815e50f",
   "metadata": {},
   "source": [
    "## Extract the lightcurve\n",
    "\n",
    "This section uses standard light curve estimation tools for a 1D extraction. Only a spectral model needs to be defined in this case. Since the estimator returns the integrated flux separately for each time bin, the temporal model need not be accounted for at this stage. We extract the lightcurve in 3 energy binsç"
   ]
  },
  {
   "cell_type": "code",
   "execution_count": 14,
   "id": "207f8cb9",
   "metadata": {},
   "outputs": [],
   "source": [
    "# Define the model:\n",
    "spectral_model = PowerLawSpectralModel(\n",
    "    index=3, amplitude=\"1e-11 cm-2 s-1 TeV-1\", reference=\"1 TeV\"\n",
    ")\n",
    "model_fit = SkyModel(spectral_model=spectral_model, name=\"model-fit\")"
   ]
  },
  {
   "cell_type": "code",
   "execution_count": 15,
   "id": "ff16ec0c",
   "metadata": {},
   "outputs": [],
   "source": [
    "# Attach model to all datasets\n",
    "datasets.models = model_fit"
   ]
  },
  {
   "cell_type": "code",
   "execution_count": 16,
   "id": "de110489",
   "metadata": {},
   "outputs": [
    {
     "name": "stdout",
     "output_type": "stream",
     "text": [
      "CPU times: user 10.9 s, sys: 15.1 ms, total: 10.9 s\n",
      "Wall time: 10.9 s\n"
     ]
    }
   ],
   "source": [
    "%%time\n",
    "lc_maker_1d = LightCurveEstimator(\n",
    "    energy_edges=[0.3, 0.6, 1.0, 10] * u.TeV,\n",
    "    source=\"model-fit\",\n",
    "    selection_optional=[\"ul\"],\n",
    ")\n",
    "lc_1d = lc_maker_1d.run(datasets)"
   ]
  },
  {
   "cell_type": "code",
   "execution_count": 17,
   "id": "a5aee53c",
   "metadata": {},
   "outputs": [
    {
     "data": {
      "image/png": "[encoded data removed]",
      "text/plain": [
       "<Figure size 432x288 with 1 Axes>"
      ]
     },
     "metadata": {
      "needs_background": "light"
     },
     "output_type": "display_data"
    }
   ],
   "source": [
    "ax = lc_1d.plot(marker=\"o\", axis_name=\"time\", sed_type=\"flux\")"
   ]
  },
  {
   "cell_type": "markdown",
   "id": "a82fae46",
   "metadata": {},
   "source": [
    "## Fitting temporal models\n",
    "We have the reconstructed lightcurve at this point. Now we want to fit a profile to the obtained light curves, using a joint fitting across the different datasets, while simultaneously minimising across the temporal model parameters as well. The temporal models can be applied \n",
    "\n",
    "- directly on the obtained lightcurve\n",
    "- on the simulated datasets"
   ]
  },
  {
   "cell_type": "markdown",
   "id": "91e87524",
   "metadata": {},
   "source": [
    "### Fitting the obtained light curve\n",
    "\n",
    "The fitting will proceed through a joint fit of the flux points. First, we need to obtain a set of `FluxPointDatasets`, one for each time bin"
   ]
  },
  {
   "cell_type": "code",
   "execution_count": 18,
   "id": "c8ebf08e",
   "metadata": {},
   "outputs": [],
   "source": [
    "## Create the datasets by iterating over the returned lightcurve\n",
    "datasets = Datasets()\n",
    "\n",
    "for idx, fp in enumerate(lc_1d.iter_by_axis(axis_name=\"time\")):\n",
    "    dataset = FluxPointsDataset(data=fp, name=f\"time-bin-{idx}\")\n",
    "    datasets.append(dataset)"
   ]
  },
  {
   "cell_type": "markdown",
   "id": "fe9e4d13",
   "metadata": {},
   "source": [
    "We will fit the amplitude, spectral index and the decay time scale. Note that `t_ref` should be fixed by default for the `ExpDecayTemporalModel`. "
   ]
  },
  {
   "cell_type": "code",
   "execution_count": 19,
   "id": "fa124578",
   "metadata": {},
   "outputs": [
    {
     "name": "stderr",
     "output_type": "stream",
     "text": [
      "/home/gabriele/anaconda3/envs/gammapy-0.20/lib/python3.8/site-packages/astropy/units/quantity.py:613: RuntimeWarning: overflow encountered in exp\n",
      "  result = super().__array_ufunc__(function, method, *arrays, **kwargs)\n",
      "/home/gabriele/anaconda3/envs/gammapy-0.20/lib/python3.8/site-packages/astropy/units/quantity.py:613: RuntimeWarning: invalid value encountered in subtract\n",
      "  result = super().__array_ufunc__(function, method, *arrays, **kwargs)\n"
     ]
    }
   ],
   "source": [
    "# Define the model:\n",
    "spectral_model1 = PowerLawSpectralModel(\n",
    "    index=2.0, amplitude=\"1e-12 cm-2 s-1 TeV-1\", reference=\"1 TeV\"\n",
    ")\n",
    "temporal_model1 = ExpDecayTemporalModel(t0=\"10 h\", t_ref=gti_t0.mjd * u.d)\n",
    "\n",
    "model = SkyModel(\n",
    "    spectral_model=spectral_model1,\n",
    "    temporal_model=temporal_model1,\n",
    "    name=\"model-test\",\n",
    ")"
   ]
  },
  {
   "cell_type": "code",
   "execution_count": 20,
   "id": "f3c3e945",
   "metadata": {},
   "outputs": [],
   "source": [
    "datasets.models = model"
   ]
  },
  {
   "cell_type": "code",
   "execution_count": 21,
   "id": "28f3a62c",
   "metadata": {},
   "outputs": [
    {
     "name": "stdout",
     "output_type": "stream",
     "text": [
      "CPU times: user 8.62 s, sys: 12.2 ms, total: 8.63 s\n",
      "Wall time: 8.64 s\n"
     ]
    },
    {
     "name": "stderr",
     "output_type": "stream",
     "text": [
      "/home/gabriele/anaconda3/envs/gammapy-0.20/lib/python3.8/site-packages/astropy/units/quantity.py:613: RuntimeWarning: overflow encountered in exp\n",
      "  result = super().__array_ufunc__(function, method, *arrays, **kwargs)\n",
      "/home/gabriele/anaconda3/envs/gammapy-0.20/lib/python3.8/site-packages/astropy/units/quantity.py:613: RuntimeWarning: invalid value encountered in subtract\n",
      "  result = super().__array_ufunc__(function, method, *arrays, **kwargs)\n"
     ]
    }
   ],
   "source": [
    "%%time\n",
    "# Do a joint fit\n",
    "fit = Fit()\n",
    "result = fit.run(datasets=datasets)"
   ]
  },
  {
   "cell_type": "markdown",
   "id": "6170b6d9",
   "metadata": {},
   "source": [
    "Now let's plot model and data. We plot only the normalisation of the temporal model in relative units for one particular energy range"
   ]
  },
  {
   "cell_type": "code",
   "execution_count": 22,
   "id": "da30ee2a",
   "metadata": {
    "nbsphinx-thumbnail": {
     "tooltip": "Simulate and fit a time decaying light curve of a source using the CTA 1DC response."
    }
   },
   "outputs": [
    {
     "data": {
      "text/plain": [
       "<matplotlib.legend.Legend at 0x7ff19f9ca2b0>"
      ]
     },
     "execution_count": 22,
     "metadata": {},
     "output_type": "execute_result"
    },
    {
     "data": {
      "image/png": "[encoded data removed]",
      "text/plain": [
       "<Figure size 432x288 with 1 Axes>"
      ]
     },
     "metadata": {
      "needs_background": "light"
     },
     "output_type": "display_data"
    }
   ],
   "source": [
    "lc_1TeV_10TeV = lc_1d.slice_by_idx({\"energy\": slice(2, 3)})\n",
    "ax = lc_1TeV_10TeV.plot(sed_type=\"norm\", axis_name=\"time\")\n",
    "\n",
    "time_range = lc_1TeV_10TeV.geom.axes[\"time\"].time_bounds\n",
    "temporal_model1.plot(ax=ax, time_range=time_range, label=\"Best fit model\")\n",
    "\n",
    "ax.set_yscale(\"linear\")\n",
    "plt.legend()"
   ]
  },
  {
   "cell_type": "markdown",
   "id": "4a959c6c",
   "metadata": {},
   "source": [
    "### Fit the datasets\n",
    "\n",
    "Here, we apply the models directly to the simulated datasets.\n",
    "\n",
    "For modelling and fitting more complex flares, you should attach the relevant model to each group of `datasets`. The parameters of a model in a given group of dataset will be tied. For more details on joint fitting in gammapy, see [here](../2D/modeling_2D.ipynb)."
   ]
  },
  {
   "cell_type": "code",
   "execution_count": 23,
   "id": "205d016b",
   "metadata": {},
   "outputs": [
    {
     "name": "stderr",
     "output_type": "stream",
     "text": [
      "/home/gabriele/anaconda3/envs/gammapy-0.20/lib/python3.8/site-packages/astropy/units/quantity.py:613: RuntimeWarning: overflow encountered in exp\n",
      "  result = super().__array_ufunc__(function, method, *arrays, **kwargs)\n",
      "/home/gabriele/anaconda3/envs/gammapy-0.20/lib/python3.8/site-packages/astropy/units/quantity.py:613: RuntimeWarning: invalid value encountered in subtract\n",
      "  result = super().__array_ufunc__(function, method, *arrays, **kwargs)\n"
     ]
    }
   ],
   "source": [
    "# Define the model:\n",
    "spectral_model2 = PowerLawSpectralModel(\n",
    "    index=2.0, amplitude=\"1e-12 cm-2 s-1 TeV-1\", reference=\"1 TeV\"\n",
    ")\n",
    "temporal_model2 = ExpDecayTemporalModel(t0=\"10 h\", t_ref=gti_t0.mjd * u.d)\n",
    "\n",
    "model2 = SkyModel(\n",
    "    spectral_model=spectral_model2,\n",
    "    temporal_model=temporal_model2,\n",
    "    name=\"model-test2\",\n",
    ")"
   ]
  },
  {
   "cell_type": "code",
   "execution_count": 24,
   "id": "9db21cec",
   "metadata": {},
   "outputs": [
    {
     "data": {
      "text/html": [
       "<div><i>Table length=5</i>\n",
       "<table id=\"table140675741755904\" class=\"table-striped table-bordered table-condensed\">\n",
       "<thead><tr><th>type</th><th>name</th><th>value</th><th>unit</th><th>error</th><th>min</th><th>max</th><th>frozen</th><th>is_norm</th><th>link</th></tr></thead>\n",
       "<thead><tr><th>str8</th><th>str9</th><th>float64</th><th>str14</th><th>int64</th><th>float64</th><th>float64</th><th>bool</th><th>bool</th><th>str1</th></tr></thead>\n",
       "<tr><td>spectral</td><td>index</td><td>2.0000e+00</td><td></td><td>0.000e+00</td><td>nan</td><td>nan</td><td>False</td><td>False</td><td></td></tr>\n",
       "<tr><td>spectral</td><td>amplitude</td><td>1.0000e-12</td><td>cm-2 s-1 TeV-1</td><td>0.000e+00</td><td>nan</td><td>nan</td><td>False</td><td>True</td><td></td></tr>\n",
       "<tr><td>spectral</td><td>reference</td><td>1.0000e+00</td><td>TeV</td><td>0.000e+00</td><td>nan</td><td>nan</td><td>True</td><td>False</td><td></td></tr>\n",
       "<tr><td>temporal</td><td>t0</td><td>1.0000e+01</td><td>h</td><td>0.000e+00</td><td>nan</td><td>nan</td><td>False</td><td>False</td><td></td></tr>\n",
       "<tr><td>temporal</td><td>t_ref</td><td>5.8909e+04</td><td>d</td><td>0.000e+00</td><td>nan</td><td>nan</td><td>True</td><td>False</td><td></td></tr>\n",
       "</table></div>"
      ],
      "text/plain": [
       "<Table length=5>\n",
       "  type      name     value         unit        error     min     max   frozen is_norm link\n",
       "  str8      str9    float64       str14        int64   float64 float64  bool    bool  str1\n",
       "-------- --------- ---------- -------------- --------- ------- ------- ------ ------- ----\n",
       "spectral     index 2.0000e+00                0.000e+00     nan     nan  False   False     \n",
       "spectral amplitude 1.0000e-12 cm-2 s-1 TeV-1 0.000e+00     nan     nan  False    True     \n",
       "spectral reference 1.0000e+00            TeV 0.000e+00     nan     nan   True   False     \n",
       "temporal        t0 1.0000e+01              h 0.000e+00     nan     nan  False   False     \n",
       "temporal     t_ref 5.8909e+04              d 0.000e+00     nan     nan   True   False     "
      ]
     },
     "execution_count": 24,
     "metadata": {},
     "output_type": "execute_result"
    }
   ],
   "source": [
    "model2.parameters.to_table()"
   ]
  },
  {
   "cell_type": "code",
   "execution_count": 25,
   "id": "aed8ef42",
   "metadata": {},
   "outputs": [],
   "source": [
    "datasets.models = model2"
   ]
  },
  {
   "cell_type": "code",
   "execution_count": 26,
   "id": "d07b2bf8",
   "metadata": {},
   "outputs": [
    {
     "name": "stdout",
     "output_type": "stream",
     "text": [
      "CPU times: user 8.95 s, sys: 5.2 ms, total: 8.96 s\n",
      "Wall time: 8.96 s\n"
     ]
    },
    {
     "name": "stderr",
     "output_type": "stream",
     "text": [
      "/home/gabriele/anaconda3/envs/gammapy-0.20/lib/python3.8/site-packages/astropy/units/quantity.py:613: RuntimeWarning: overflow encountered in exp\n",
      "  result = super().__array_ufunc__(function, method, *arrays, **kwargs)\n",
      "/home/gabriele/anaconda3/envs/gammapy-0.20/lib/python3.8/site-packages/astropy/units/quantity.py:613: RuntimeWarning: invalid value encountered in subtract\n",
      "  result = super().__array_ufunc__(function, method, *arrays, **kwargs)\n"
     ]
    }
   ],
   "source": [
    "%%time\n",
    "# Do a joint fit\n",
    "fit = Fit()\n",
    "result = fit.run(datasets=datasets)"
   ]
  },
  {
   "cell_type": "code",
   "execution_count": 27,
   "id": "f0444edd",
   "metadata": {},
   "outputs": [
    {
     "data": {
      "text/html": [
       "<div><i>Table length=5</i>\n",
       "<table id=\"table140675741688016\" class=\"table-striped table-bordered table-condensed\">\n",
       "<thead><tr><th>type</th><th>name</th><th>value</th><th>unit</th><th>error</th><th>min</th><th>max</th><th>frozen</th><th>is_norm</th><th>link</th></tr></thead>\n",
       "<thead><tr><th>str8</th><th>str9</th><th>float64</th><th>str14</th><th>float64</th><th>float64</th><th>float64</th><th>bool</th><th>bool</th><th>str1</th></tr></thead>\n",
       "<tr><td>spectral</td><td>index</td><td>3.0243e+00</td><td></td><td>2.844e-02</td><td>nan</td><td>nan</td><td>False</td><td>False</td><td></td></tr>\n",
       "<tr><td>spectral</td><td>amplitude</td><td>9.6342e-12</td><td>cm-2 s-1 TeV-1</td><td>3.302e-13</td><td>nan</td><td>nan</td><td>False</td><td>True</td><td></td></tr>\n",
       "<tr><td>spectral</td><td>reference</td><td>1.0000e+00</td><td>TeV</td><td>0.000e+00</td><td>nan</td><td>nan</td><td>True</td><td>False</td><td></td></tr>\n",
       "<tr><td>temporal</td><td>t0</td><td>6.0545e+00</td><td>h</td><td>2.285e-01</td><td>nan</td><td>nan</td><td>False</td><td>False</td><td></td></tr>\n",
       "<tr><td>temporal</td><td>t_ref</td><td>5.8909e+04</td><td>d</td><td>0.000e+00</td><td>nan</td><td>nan</td><td>True</td><td>False</td><td></td></tr>\n",
       "</table></div>"
      ],
      "text/plain": [
       "<Table length=5>\n",
       "  type      name     value         unit        error     min     max   frozen is_norm link\n",
       "  str8      str9    float64       str14       float64  float64 float64  bool    bool  str1\n",
       "-------- --------- ---------- -------------- --------- ------- ------- ------ ------- ----\n",
       "spectral     index 3.0243e+00                2.844e-02     nan     nan  False   False     \n",
       "spectral amplitude 9.6342e-12 cm-2 s-1 TeV-1 3.302e-13     nan     nan  False    True     \n",
       "spectral reference 1.0000e+00            TeV 0.000e+00     nan     nan   True   False     \n",
       "temporal        t0 6.0545e+00              h 2.285e-01     nan     nan  False   False     \n",
       "temporal     t_ref 5.8909e+04              d 0.000e+00     nan     nan   True   False     "
      ]
     },
     "execution_count": 27,
     "metadata": {},
     "output_type": "execute_result"
    }
   ],
   "source": [
    "result.parameters.to_table()"
   ]
  },
  {
   "cell_type": "markdown",
   "id": "b6bcdafc",
   "metadata": {},
   "source": [
    "We see that the fitted parameters are consistent between fitting flux points and datasets, and match well with the simulated ones"
   ]
  },
  {
   "cell_type": "markdown",
   "id": "3e27739b",
   "metadata": {},
   "source": [
    "## Exercises\n",
    "\n",
    "1. Re-do the analysis with `MapDataset` instead of `SpectralDataset`\n",
    "2. Model the flare of PKS 2155-304 which you obtained using the [light curve flare tutorial](light_curve_flare.ipynb). Use a combination of a Gaussian and Exponential flare profiles, and fit using `scipy.optimize.curve_fit`\n",
    "3. Do a joint fitting of the datasets."
   ]
  },
  {
   "cell_type": "code",
   "execution_count": 141,
   "id": "6ca425aa",
   "metadata": {},
   "outputs": [],
   "source": [
    "# from gammapy.maps import Map\n",
    "# import logging\n",
    "# import numpy as np\n",
    "# from astropy.coordinates import Angle, SkyOffsetFrame\n",
    "# from astropy.table import Table\n",
    "# from gammapy.irf import EDispMap, FoVAlignment, PSFMap\n",
    "# from gammapy.maps import Map, RegionNDMap\n",
    "# from gammapy.modeling.models import PowerLawSpectralModel\n",
    "# from gammapy.stats import WStatCountsStatistic\n",
    "# from gammapy.utils.coordinates import sky_to_fov\n",
    "# from gammapy.utils.regions import compound_region_to_regions\n",
    "\n",
    "# def make_map_background_irf(pointing, ontime, bkg, geom, oversampling=None, use_region_center=True):\n",
    "\n",
    "#     coords = {\"energy\": geom.axes[\"energy\"].edges.reshape((-1, 1, 1))}\n",
    "\n",
    "#     image_geom = geom.to_image()\n",
    "\n",
    "#     d_omega = image_geom.solid_angle()\n",
    "\n",
    "#     map_coord = image_geom.get_coord()\n",
    "\n",
    "#     sky_coord = map_coord.skycoord\n",
    "\n",
    "    \n",
    "#     # Create OffsetFrame\n",
    "#     frame = SkyOffsetFrame(origin = pointing.radec)\n",
    "#     pseudo_fov_coord = sky_coord.transform_to(frame)\n",
    "#     fov_lon = pseudo_fov_coord.lon\n",
    "#     fov_lat = pseudo_fov_coord.lat\n",
    "\n",
    "#     coords[\"fov_lon\"] = fov_lon\n",
    "#     coords[\"fov_lat\"] = fov_lat\n",
    "\n",
    "#     bkg_de = bkg.integrate_log_log(**coords, axis_name=\"energy\")\n",
    "    \n",
    "#     #print(bkg_de)\n",
    "#     #print(bkg_de * d_omega * ontime)\n",
    "#     data = (bkg_de * d_omega * ontime).to_value(\"\")\n",
    "#     #print(data)\n",
    "\n",
    "#     bkg_map = Map.from_geom(geom, data=data)\n",
    "\n",
    "#     return bkg_map\n",
    "\n",
    "# a = make_map_background_irf(pointing = obs.fixed_pointing_info,\n",
    "#                             ontime = obs.observation_time_duration,\n",
    "#                             bkg = obs.bkg,\n",
    "#                             geom = geom,\n",
    "#                             oversampling = maker.background_oversampling,\n",
    "#                             use_region_center = getattr(maker, \"use_region_center\", True)\n",
    "#                            )\n",
    "# a.data"
   ]
  }
 ],
 "metadata": {
  "kernelspec": {
   "display_name": "Python 3 (ipykernel)",
   "language": "python",
   "name": "python3"
  },
  "language_info": {
   "codemirror_mode": {
    "name": "ipython",
    "version": 3
   },
   "file_extension": ".py",
   "mimetype": "text/x-python",
   "name": "python",
   "nbconvert_exporter": "python",
   "pygments_lexer": "ipython3",
   "version": "3.8.13"
  },
  "latex_envs": {
   "LaTeX_envs_menu_present": true,
   "autoclose": false,
   "autocomplete": true,
   "bibliofile": "biblio.bib",
   "cite_by": "apalike",
   "current_citInitial": 1,
   "eqLabelWithNumbers": true,
   "eqNumInitial": 1,
   "hotkeys": {
    "equation": "Ctrl-E",
    "itemize": "Ctrl-I"
   },
   "labels_anchors": false,
   "latex_user_defs": false,
   "report_style_numbering": false,
   "user_envs_cfg": false
  }
 },
 "nbformat": 4,
 "nbformat_minor": 5
}
