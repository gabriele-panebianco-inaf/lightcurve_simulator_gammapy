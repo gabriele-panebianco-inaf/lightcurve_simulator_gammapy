{
 "cells": [
  {
   "cell_type": "code",
   "execution_count": 1,
   "id": "62caf476",
   "metadata": {},
   "outputs": [],
   "source": [
    "import numpy as np\n",
    "import astropy.units as u\n",
    "import matplotlib.pyplot as plt\n",
    "import pandas as pd\n",
    "\n",
    "from astropy.table import QTable\n",
    "from scipy.interpolate import interp1d"
   ]
  },
  {
   "cell_type": "code",
   "execution_count": 2,
   "id": "5902254b",
   "metadata": {},
   "outputs": [],
   "source": [
    "#! cat /home/gabriele/Documents/fermiGBM/light-curve-GBM-sampler/Archive_Light_Curve/GRB120323507_Sum_n0_n3_b0.dat"
   ]
  },
  {
   "cell_type": "code",
   "execution_count": 3,
   "id": "86a473ef",
   "metadata": {},
   "outputs": [
    {
     "data": {
      "text/html": [
       "<div>\n",
       "<style scoped>\n",
       "    .dataframe tbody tr th:only-of-type {\n",
       "        vertical-align: middle;\n",
       "    }\n",
       "\n",
       "    .dataframe tbody tr th {\n",
       "        vertical-align: top;\n",
       "    }\n",
       "\n",
       "    .dataframe thead th {\n",
       "        text-align: right;\n",
       "    }\n",
       "</style>\n",
       "<table border=\"1\" class=\"dataframe\">\n",
       "  <thead>\n",
       "    <tr style=\"text-align: right;\">\n",
       "      <th></th>\n",
       "      <th>time</th>\n",
       "      <th>counts</th>\n",
       "    </tr>\n",
       "  </thead>\n",
       "  <tbody>\n",
       "    <tr>\n",
       "      <th>0</th>\n",
       "      <td>0.00000</td>\n",
       "      <td>3.0</td>\n",
       "    </tr>\n",
       "    <tr>\n",
       "      <th>1</th>\n",
       "      <td>0.00384</td>\n",
       "      <td>0.0</td>\n",
       "    </tr>\n",
       "    <tr>\n",
       "      <th>2</th>\n",
       "      <td>0.00768</td>\n",
       "      <td>0.0</td>\n",
       "    </tr>\n",
       "    <tr>\n",
       "      <th>3</th>\n",
       "      <td>0.01152</td>\n",
       "      <td>2.0</td>\n",
       "    </tr>\n",
       "    <tr>\n",
       "      <th>4</th>\n",
       "      <td>0.01536</td>\n",
       "      <td>0.0</td>\n",
       "    </tr>\n",
       "    <tr>\n",
       "      <th>...</th>\n",
       "      <td>...</td>\n",
       "      <td>...</td>\n",
       "    </tr>\n",
       "    <tr>\n",
       "      <th>246</th>\n",
       "      <td>0.94464</td>\n",
       "      <td>0.0</td>\n",
       "    </tr>\n",
       "    <tr>\n",
       "      <th>247</th>\n",
       "      <td>0.94848</td>\n",
       "      <td>3.0</td>\n",
       "    </tr>\n",
       "    <tr>\n",
       "      <th>248</th>\n",
       "      <td>0.95232</td>\n",
       "      <td>2.0</td>\n",
       "    </tr>\n",
       "    <tr>\n",
       "      <th>249</th>\n",
       "      <td>0.95616</td>\n",
       "      <td>0.0</td>\n",
       "    </tr>\n",
       "    <tr>\n",
       "      <th>250</th>\n",
       "      <td>0.96000</td>\n",
       "      <td>0.0</td>\n",
       "    </tr>\n",
       "  </tbody>\n",
       "</table>\n",
       "<p>251 rows × 2 columns</p>\n",
       "</div>"
      ],
      "text/plain": [
       "        time  counts\n",
       "0    0.00000     3.0\n",
       "1    0.00384     0.0\n",
       "2    0.00768     0.0\n",
       "3    0.01152     2.0\n",
       "4    0.01536     0.0\n",
       "..       ...     ...\n",
       "246  0.94464     0.0\n",
       "247  0.94848     3.0\n",
       "248  0.95232     2.0\n",
       "249  0.95616     0.0\n",
       "250  0.96000     0.0\n",
       "\n",
       "[251 rows x 2 columns]"
      ]
     },
     "execution_count": 3,
     "metadata": {},
     "output_type": "execute_result"
    }
   ],
   "source": [
    "filename = \"/home/gabriele/Documents/fermiGBM/light-curve-GBM-sampler/Archive_Light_Curve/GRB120323507_Sum_n0_n3_b0.dat\"\n",
    "\n",
    "Light_curve = pd.read_table(filename,\n",
    "                            sep=\" \",\n",
    "                            names = [\"DP\",\"time\",\"counts\"],\n",
    "                            skiprows=6,\n",
    "                            skipfooter=1,\n",
    "                            engine ='python',\n",
    "                            comment = '#',\n",
    "                            dtype = {\"DP\":'str',\"time\":'float',\"counts\":'float'}\n",
    "                           )\n",
    "Light_curve = Light_curve.drop(labels=[\"DP\"], axis=1)\n",
    "\n",
    "# Print\n",
    "Light_curve\n"
   ]
  },
  {
   "cell_type": "code",
   "execution_count": 61,
   "id": "a68802ae",
   "metadata": {},
   "outputs": [
    {
     "name": "stdout",
     "output_type": "stream",
     "text": [
      "Resolution: 0.00384 s.\n"
     ]
    }
   ],
   "source": [
    "# Interpolation to get finer resolution\n",
    "f = interp1d(Light_curve['time'],\n",
    "             Light_curve['counts'],\n",
    "             bounds_error=False,\n",
    "             fill_value=(0.0,0.0)\n",
    "            )\n",
    "\n",
    "Time_resolution = Light_curve['time'][1]-Light_curve['time'][0]\n",
    "print(f\"Resolution: {Time_resolution} s.\")\n",
    "pad_width = int(1 / (Time_resolution/2.0) ) # Add 1s extra to dx and sx\n",
    "\n",
    "times = Light_curve['time'].to_numpy()\n",
    "times_hires = np.arange(-pad_width, 2.0*len(times)+pad_width)*(Time_resolution/2.0)\n",
    "curve_hires = f(times_hires)\n"
   ]
  },
  {
   "cell_type": "code",
   "execution_count": 66,
   "id": "6ae01988",
   "metadata": {},
   "outputs": [
    {
     "data": {
      "image/png": "[encoded data removed]",
      "text/plain": [
       "<Figure size 1080x360 with 1 Axes>"
      ]
     },
     "metadata": {
      "needs_background": "light"
     },
     "output_type": "display_data"
    }
   ],
   "source": [
    "fig, ax = plt.subplots(1, figsize=(15,5), constrained_layout=True)\n",
    "\n",
    "#ax.step(Light_curve['time'],Light_curve['counts'], where='mid')\n",
    "#ax.plot(Light_curve['time'],Light_curve['counts'])\n",
    "#ax.step(times_hires, curve_hires, where='mid')\n",
    "ax.plot(times_hires, curve_hires/np.max(curve_hires))\n",
    "ax.set_xlabel(\"Time / s\", fontsize='large')\n",
    "ax.set_ylabel(\"Counts\", fontsize ='large')\n",
    "ax.set_title(filename, fontsize='large')\n",
    "#ax.set_xticks(np.linspace(Light_curve['time'].iloc[0],Light_curve['time'].iloc[-1], 10))\n",
    "ax.grid()"
   ]
  },
  {
   "cell_type": "code",
   "execution_count": 67,
   "id": "28e9fe42",
   "metadata": {},
   "outputs": [],
   "source": [
    "# Save high resolution Light Curve\n",
    "\n",
    "t = QTable(meta={'curve':\"/home/gabriele/Documents/fermiGBM/light-curve-GBM-sampler/Archive_Light_Curve/GRB120323507_Sum_n0_n3_b0.dat\"\n",
    "                }\n",
    "          )\n",
    "t['time'] = times_hires * u.s\n",
    "t['counts']= curve_hires\n",
    "t['norm'] = curve_hires / np.max(curve_hires)\n",
    "\n",
    "# Export\n",
    "Output_Directory = \"/home/gabriele/Documents/gammapy/LCsim/archives/\"\n",
    "Output_Name = \"GRB120323507_Sum_n0_n3_b0.dat.fits\"\n",
    "t.write(Output_Directory+Output_Name, format = 'fits', overwrite = True)\n",
    "\n"
   ]
  }
 ],
 "metadata": {
  "kernelspec": {
   "display_name": "Python 3 (ipykernel)",
   "language": "python",
   "name": "python3"
  },
  "language_info": {
   "codemirror_mode": {
    "name": "ipython",
    "version": 3
   },
   "file_extension": ".py",
   "mimetype": "text/x-python",
   "name": "python",
   "nbconvert_exporter": "python",
   "pygments_lexer": "ipython3",
   "version": "3.8.13"
  }
 },
 "nbformat": 4,
 "nbformat_minor": 5
}
