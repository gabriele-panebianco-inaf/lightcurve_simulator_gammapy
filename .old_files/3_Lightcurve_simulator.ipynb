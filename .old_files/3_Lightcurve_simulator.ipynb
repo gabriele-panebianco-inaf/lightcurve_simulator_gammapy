{
 "cells": [
  {
   "cell_type": "markdown",
   "id": "656375d9",
   "metadata": {},
   "source": [
    "# Create a Lightcurve Simulator in Gammapy-0.20"
   ]
  },
  {
   "cell_type": "markdown",
   "id": "07c697e4",
   "metadata": {},
   "source": [
    "## 0 - Setup: import packages of the environment gammapy-0.20"
   ]
  },
  {
   "cell_type": "code",
   "execution_count": 1,
   "id": "3b2b7935",
   "metadata": {},
   "outputs": [],
   "source": [
    "import matplotlib.pyplot as plt\n",
    "from matplotlib.colors import LogNorm, PowerNorm\n",
    "import numpy as np\n",
    "import pandas as pd\n",
    "\n",
    "import astropy.units as u\n",
    "from astropy.coordinates import SkyCoord\n",
    "from astropy.time import Time\n",
    "from astropy.table import Table, QTable\n",
    "from astropy.io import fits\n",
    "\n",
    "import logging\n",
    "log = logging.getLogger(__name__)"
   ]
  },
  {
   "cell_type": "code",
   "execution_count": 2,
   "id": "74044b11",
   "metadata": {},
   "outputs": [],
   "source": [
    "from gammapy.data import Observation\n",
    "from gammapy.data import observatory_locations\n",
    "from gammapy.datasets import SpectrumDataset, Datasets, FluxPointsDataset\n",
    "from gammapy.estimators import LightCurveEstimator\n",
    "from gammapy.irf import (\n",
    "    load_cta_irfs,\n",
    "    EffectiveAreaTable2D,\n",
    "    Background2D, Background3D,\n",
    "    EnergyDispersion2D, EDispKernel, EDispKernelMap,\n",
    "    FoVAlignment\n",
    ")\n",
    "from gammapy.makers import SpectrumDatasetMaker\n",
    "from gammapy.maps import MapAxis, RegionGeom, TimeMapAxis\n",
    "from gammapy.modeling import Fit\n",
    "from gammapy.modeling.models import (\n",
    "    PowerLawSpectralModel,\n",
    "    ExpCutoffPowerLawSpectralModel,\n",
    "    ExpDecayTemporalModel,\n",
    "    SkyModel,\n",
    "    ExpCutoffPowerLaw3FGLSpectralModel,\n",
    "    GeneralizedGaussianTemporalModel,\n",
    "    LightCurveTemplateTemporalModel\n",
    ")\n",
    "from gammapy.utils.random import get_random_state"
   ]
  },
  {
   "cell_type": "markdown",
   "id": "cd466cd5",
   "metadata": {},
   "source": [
    "#### Files to load"
   ]
  },
  {
   "cell_type": "code",
   "execution_count": 3,
   "id": "44ba904a",
   "metadata": {},
   "outputs": [],
   "source": [
    "# Define Data Directory\n",
    "input_directory = \"/home/gabriele/Documents/fermiGBM/\"\n",
    "\n",
    "# Define PHA file\n",
    "file_pha = input_directory + \"Output/grb_120323_A/grb_120323_A_n0.pha\"\n",
    "\n",
    "# Define BAK file\n",
    "file_bak = input_directory + \"Output/grb_120323_A/grb_120323_A_n0.bak\"\n",
    "\n",
    "# Define TTE fits file\n",
    "file_tte = input_directory + \"FermiData/bn120323507/glg_tte_n0_bn120323507_v00.fit\"\n",
    "\n",
    "# Define RSP file\n",
    "file_rsp = input_directory + \"FermiData/bn120323507/glg_cspec_n0_bn120323507_v01.rsp\""
   ]
  },
  {
   "cell_type": "code",
   "execution_count": null,
   "id": "5494d85b",
   "metadata": {},
   "outputs": [],
   "source": [
    "# hdulist_tte = fits.open(file_tte)\n",
    "# hdulist_tte.info()\n",
    "# hdulist_tte['PRIMARY'].header"
   ]
  },
  {
   "cell_type": "markdown",
   "id": "b524e726",
   "metadata": {},
   "source": [
    "## 1 - Load the Detector Response Matrix\n",
    "\n",
    "This file is used to define a Reference Time, a Pointing Direction, the True Energy Axis, the Reconstructed Energy Axis, the Detector Response Matrix, the Effective Area."
   ]
  },
  {
   "cell_type": "code",
   "execution_count": 4,
   "id": "928eeb5d",
   "metadata": {},
   "outputs": [
    {
     "name": "stdout",
     "output_type": "stream",
     "text": [
      "Filename: /home/gabriele/Documents/fermiGBM/FermiData/bn120323507/glg_cspec_n0_bn120323507_v01.rsp\n",
      "No.    Name      Ver    Type      Cards   Dimensions   Format\n",
      "  0  PRIMARY       1 PrimaryHDU      38   ()      \n",
      "  1  EBOUNDS       1 BinTableHDU     57   128R x 3C   [1I, 1E, 1E]   \n",
      "  2  SPECRESP MATRIX    1 BinTableHDU     67   140R x 6C   [1E, 1E, 1I, PI(128), PI(128), PE(128)]   \n",
      "None\n"
     ]
    }
   ],
   "source": [
    "hdulist_rsp = fits.open(file_rsp)\n",
    "\n",
    "# Print the Information and Primary Header\n",
    "print(hdulist_rsp.info())\n",
    "# hdulist_rsp['PRIMARY'].header"
   ]
  },
  {
   "cell_type": "markdown",
   "id": "27034368",
   "metadata": {},
   "source": [
    "#### 1.1 - Define the Reference Time of the simulated observations"
   ]
  },
  {
   "cell_type": "code",
   "execution_count": 5,
   "id": "78697071",
   "metadata": {},
   "outputs": [
    {
     "data": {
      "text/plain": [
       "<Time object: scale='tt' format='iso' value=2012-03-23 12:11:25.907>"
      ]
     },
     "execution_count": 5,
     "metadata": {},
     "output_type": "execute_result"
    }
   ],
   "source": [
    "# Define the Trigger Time as the Reference Time of the simulated observations\n",
    "TIMESYS= hdulist_rsp['PRIMARY'].header['TIMESYS'].lower()\n",
    "\n",
    "ref_t0 = hdulist_rsp['PRIMARY'].header['MJDREFI']\n",
    "ref_t0+= hdulist_rsp['PRIMARY'].header['MJDREFF']\n",
    "ref_t0+= hdulist_rsp['PRIMARY'].header['TRIGTIME']/86400.0\n",
    "\n",
    "ref_t0 = Time(ref_t0,\n",
    "              format = 'mjd',\n",
    "              scale = TIMESYS\n",
    "             )\n",
    "\n",
    "# Define preferred time format\n",
    "TimeMapAxis.time_format = \"iso\" \n",
    "ref_t0.format = TimeMapAxis.time_format\n",
    "\n",
    "# Print\n",
    "ref_t0"
   ]
  },
  {
   "cell_type": "markdown",
   "id": "ecb675b4",
   "metadata": {},
   "source": [
    "#### 1.2 - Define the Pointing Direction of the simulated observations\n",
    "\n",
    "We must define a *pointing* direction.\n",
    "In IACTs this is very close to the target direction, in satellites it is very far in general for GRBs.\n",
    "\n",
    "**What do I do?**"
   ]
  },
  {
   "cell_type": "code",
   "execution_count": 6,
   "id": "9e5fe9ee",
   "metadata": {},
   "outputs": [
    {
     "data": {
      "text/plain": [
       "<SkyCoord (FK5: equinox=J2000.000): (ra, dec) in deg\n",
       "    (340.4, 29.7)>"
      ]
     },
     "execution_count": 6,
     "metadata": {},
     "output_type": "execute_result"
    }
   ],
   "source": [
    "# Define the Pointing Direction of the simulated instrument as the Object direction\n",
    "RA_OBJ  = hdulist_rsp['PRIMARY'].header['RA_OBJ' ]\n",
    "DEC_OBJ = hdulist_rsp['PRIMARY'].header['DEC_OBJ']\n",
    "FRAME   = hdulist_rsp['PRIMARY'].header['RADECSYS'].lower()\n",
    "\n",
    "pointing = SkyCoord(RA_OBJ,\n",
    "                    DEC_OBJ,\n",
    "                    unit = \"deg\",\n",
    "                    frame = FRAME\n",
    "                   )\n",
    "\n",
    "# Print\n",
    "pointing"
   ]
  },
  {
   "cell_type": "markdown",
   "id": "b15ec7ac",
   "metadata": {},
   "source": [
    "#### 1.3 - Define the Reconstructed Energy Axis\n",
    "This is done from the EBOUNDS hdu of the response file."
   ]
  },
  {
   "cell_type": "code",
   "execution_count": 7,
   "id": "0e5bc081",
   "metadata": {},
   "outputs": [],
   "source": [
    "# Choose how to interpolate the energies\n",
    "INTERP = 'log' # 'lin' or 'log'"
   ]
  },
  {
   "cell_type": "code",
   "execution_count": 8,
   "id": "5a870896",
   "metadata": {},
   "outputs": [
    {
     "name": "stdout",
     "output_type": "stream",
     "text": [
      "MapAxis\n",
      "\n",
      "\tname       : energy    \n",
      "\tunit       : 'keV'     \n",
      "\tnbins      : 128       \n",
      "\tnode type  : edges     \n",
      "\tedges min  : 4.6e+00 keV\n",
      "\tedges max  : 2.0e+03 keV\n",
      "\tinterp     : log       \n",
      "\n"
     ]
    }
   ],
   "source": [
    "# Define the Reconstructed Energy Axis\n",
    "ebounds = hdulist_rsp['EBOUNDS'].header['EXTNAME']\n",
    "\n",
    "reco_table = Table.read( hdulist_rsp[ebounds] )\n",
    "\n",
    "reco_energy_min = reco_table[\"E_MIN\"].quantity\n",
    "reco_energy_max = reco_table[\"E_MAX\"].quantity\n",
    "\n",
    "# Define Edges\n",
    "reco_energy_edges = np.append(reco_energy_min.value, reco_energy_max.value[-1]) * reco_energy_min.unit\n",
    "\n",
    "# Define Axis\n",
    "axis_energy_reco = MapAxis.from_edges(reco_energy_edges,\n",
    "                                      name = \"energy\",\n",
    "                                      interp = INTERP\n",
    "                                     )\n",
    "\n",
    "# Print\n",
    "print(axis_energy_reco)\n",
    "# reco_table"
   ]
  },
  {
   "cell_type": "markdown",
   "id": "7ab44c38",
   "metadata": {},
   "source": [
    "#### 1.4 - Define the Source Geometry: a region in the sky where the source is placed.\n",
    "This represents a single pixel on the sky."
   ]
  },
  {
   "cell_type": "code",
   "execution_count": 9,
   "id": "d8046fa1",
   "metadata": {},
   "outputs": [
    {
     "data": {
      "text/plain": [
       "RegionGeom\n",
       "\n",
       "\tregion     : CircleSkyRegion\n",
       "\taxes       : ['lon', 'lat', 'energy']\n",
       "\tshape      : (1, 1, 128)\n",
       "\tndim       : 3\n",
       "\tframe      : fk5\n",
       "\tcenter     : 340.4 deg, 29.7 deg"
      ]
     },
     "execution_count": 9,
     "metadata": {},
     "output_type": "execute_result"
    }
   ],
   "source": [
    "geometry_radius = 1.0 * u.deg\n",
    "source_geometry_str = FRAME+';circle('+str(RA_OBJ)+', '+str(DEC_OBJ)+', '+str(geometry_radius.value)+')'\n",
    "\n",
    "# Geometry object: a sky region covered by a pixel, with arbitrary shape and size\n",
    "geom = RegionGeom.create(source_geometry_str, axes = [axis_energy_reco])\n",
    "geom"
   ]
  },
  {
   "cell_type": "markdown",
   "id": "afab2e58",
   "metadata": {},
   "source": [
    "#### 1.4 - Define the True Energy Axis\n",
    "This is done from the SPECRESP MATRIX hdu of the response file.\n",
    "This name might change."
   ]
  },
  {
   "cell_type": "code",
   "execution_count": 10,
   "id": "2f7e4c78",
   "metadata": {
    "scrolled": true
   },
   "outputs": [
    {
     "name": "stdout",
     "output_type": "stream",
     "text": [
      "MapAxis\n",
      "\n",
      "\tname       : energy_true\n",
      "\tunit       : 'keV'     \n",
      "\tnbins      : 140       \n",
      "\tnode type  : edges     \n",
      "\tedges min  : 5.0e+00 keV\n",
      "\tedges max  : 5.0e+04 keV\n",
      "\tinterp     : log       \n",
      "\n"
     ]
    }
   ],
   "source": [
    "specresp_matrix = hdulist_rsp['SPECRESP MATRIX'].header['EXTNAME']\n",
    "\n",
    "# Define the True Energy Axis\n",
    "true_table = Table.read( hdulist_rsp[specresp_matrix] )\n",
    "\n",
    "true_energy_min = true_table[\"ENERG_LO\"].quantity\n",
    "true_energy_max = true_table[\"ENERG_HI\"].quantity\n",
    "\n",
    "# To avoid that min edge is 0\n",
    "true_energy_min[0] += 1e-2 * (true_energy_max[0] - true_energy_min[0])\n",
    "\n",
    "# Define Edges\n",
    "true_energy_edges = np.append(true_energy_min.value, true_energy_max.value[-1]) * true_energy_min.unit\n",
    "\n",
    "# Define Axis\n",
    "axis_energy_true = MapAxis.from_edges(true_energy_edges,\n",
    "                                      name = \"energy_true\",\n",
    "                                      interp = INTERP\n",
    "                                     )\n",
    "# Print\n",
    "print(axis_energy_true)\n",
    "# true_table"
   ]
  },
  {
   "cell_type": "markdown",
   "id": "fed18706",
   "metadata": {},
   "source": [
    "#### 1.5 - Load the Spectral Response Matrix: Effective Area vs True and Reconstructed Energy"
   ]
  },
  {
   "cell_type": "code",
   "execution_count": 11,
   "id": "9d6bc084",
   "metadata": {},
   "outputs": [
    {
     "name": "stdout",
     "output_type": "stream",
     "text": [
      "Total effective area: 7391.495777348258 cm2.\n"
     ]
    }
   ],
   "source": [
    "Matrix_hdu = hdulist_rsp[specresp_matrix]\n",
    "Matrix_header = Matrix_hdu.header\n",
    "Matrix_data = Matrix_hdu.data\n",
    "\n",
    "Matrix_array = np.zeros([len(Matrix_data), Matrix_header[\"DETCHANS\"]], dtype = np.float64)\n",
    "\n",
    "for i, l in enumerate(Matrix_data):\n",
    "    if l.field(\"N_GRP\"):\n",
    "        m_start = 0\n",
    "        for k in range(l.field(\"N_GRP\")):\n",
    "            \n",
    "            if np.isscalar(l.field(\"N_CHAN\")):\n",
    "                f_chan = l.field(\"F_CHAN\") - 1\n",
    "                n_chan = l.field(\"N_CHAN\")\n",
    "            else:\n",
    "                f_chan = l.field(\"F_CHAN\")[k] - 1\n",
    "                n_chan = l.field(\"N_CHAN\")[k]\n",
    "\n",
    "            Matrix_array[i, f_chan : f_chan+n_chan] = l.field(\"MATRIX\")[m_start : m_start+n_chan]\n",
    "            m_start += n_chan\n",
    "\n",
    "# Values are set, now define the unit of measure.\n",
    "Matrix_unit = true_table['MATRIX'].unit\n",
    "\n",
    "# Compute the total Effective Area\n",
    "Total_aeff = np.sum(Matrix_array) * Matrix_unit\n",
    "print('Total effective area: {}.'.format(Total_aeff))\n",
    "\n",
    "# Divide Matrix array by the total effective area to get an adimensional result\n",
    "# Matrix_adim = Matrix_array / Total_aeff.value"
   ]
  },
  {
   "cell_type": "markdown",
   "id": "76342b95",
   "metadata": {},
   "source": [
    "#### 1.6 - Build the Energy Dispersion Kernel"
   ]
  },
  {
   "cell_type": "code",
   "execution_count": null,
   "id": "48a6faff",
   "metadata": {},
   "outputs": [],
   "source": [
    "# data = Matrix_adim\n",
    "# new_data = np.empty(Matrix_adim.shape)\n",
    "# results = np.empty(data[0].shape)\n",
    "\n",
    "# for i in range(len(results)):\n",
    "#     results[i] = np.sum(data[i])\n",
    "#     new_data[i] = data[i]/results[i]\n",
    "\n",
    "# #results\n",
    "# new_data\n",
    "# for i in range(len(results)):\n",
    "#     results[i] = np.sum(new_data[i])\n",
    "\n",
    "# Matrix_adim[-1]\n"
   ]
  },
  {
   "cell_type": "code",
   "execution_count": null,
   "id": "a880feac",
   "metadata": {},
   "outputs": [],
   "source": [
    "# edisp_kernel = EDispKernel(axes = [axis_energy_true, axis_energy_reco], data = new_data)\n",
    "# edisp_kernel.plot_matrix(add_cbar=True)\n",
    "\n",
    "# data = edisp_kernel.data\n",
    "# results = np.empty(data[0].shape)\n",
    "\n",
    "# for i in range(len(results)):\n",
    "#     results[i] = np.sum(data[i])\n",
    "\n",
    "# # results"
   ]
  },
  {
   "cell_type": "code",
   "execution_count": null,
   "id": "70b25930",
   "metadata": {},
   "outputs": [],
   "source": [
    "# # Print\n",
    "# f, a = plt.subplots( figsize = (10,5) )\n",
    "\n",
    "# a = edisp_kernel.plot_matrix(add_cbar = True,\n",
    "#                                 norm = PowerNorm(gamma=0.3),\n",
    "#                                 cmap = 'plasma'\n",
    "#                                )\n",
    "# a.set_facecolor('black')\n",
    "# a.set_xscale('log')\n",
    "# a.set_yscale('log')\n",
    "# a.set_title('Energy Dispersion kernel: PowerNorm(0.3)')\n",
    "\n",
    "# plt.show()\n",
    "\n",
    "# # Print\n",
    "# f, a = plt.subplots(figsize = (10,5) )\n",
    "\n",
    "# a = edisp_kernel.plot_matrix(add_cbar = True,\n",
    "#                                 norm = LogNorm(vmin=4.0e-11),\n",
    "#                                 cmap = 'plasma'\n",
    "#                                )\n",
    "# a.set_facecolor('black')\n",
    "# a.set_xscale('log')\n",
    "# a.set_yscale('log')\n",
    "# a.set_title('Energy Dispersion kernel: LogNorm()')\n",
    "\n",
    "# plt.show()"
   ]
  },
  {
   "cell_type": "code",
   "execution_count": null,
   "id": "e70292e2",
   "metadata": {},
   "outputs": [],
   "source": [
    "# edisp_kermap = EDispKernelMap.from_edisp_kernel(edisp_kernel, geom = geom)\n",
    "# edisp_kermap.peek()"
   ]
  },
  {
   "cell_type": "markdown",
   "id": "adebc587",
   "metadata": {},
   "source": [
    "#### 1.6 - Define the Effective Area\n",
    "\n",
    "Plot the Effective Area vs True Energy"
   ]
  },
  {
   "cell_type": "code",
   "execution_count": 12,
   "id": "714bd499",
   "metadata": {},
   "outputs": [
    {
     "name": "stdout",
     "output_type": "stream",
     "text": [
      "MapAxis\n",
      "\n",
      "\tname       : offset    \n",
      "\tunit       : 'deg'     \n",
      "\tnbins      : 10        \n",
      "\tnode type  : edges     \n",
      "\tedges min  : 0.0e+00 deg\n",
      "\tedges max  : 1.0e+01 deg\n",
      "\tinterp     : lin       \n",
      "\n"
     ]
    }
   ],
   "source": [
    "# Create Offset axis\n",
    "axis_offset = MapAxis.from_bounds(0.0,                  # Minimum Offset\n",
    "                                  10.0,                 # Maximum Offset\n",
    "                                  unit = \"degree\",\n",
    "                                  nbin = 10,\n",
    "                                  name = \"offset\"\n",
    "                                 )\n",
    "\n",
    "# Print\n",
    "print(axis_offset)\n",
    "# axis_offset.as_plot_labels"
   ]
  },
  {
   "cell_type": "code",
   "execution_count": 13,
   "id": "fdeb67d8",
   "metadata": {},
   "outputs": [
    {
     "name": "stdout",
     "output_type": "stream",
     "text": [
      "EffectiveAreaTable2D\n",
      "--------------------\n",
      "\n",
      "  axes  : ['energy_true', 'offset']\n",
      "  shape : (140, 10)\n",
      "  ndim  : 2\n",
      "  unit  : cm2\n",
      "  dtype : float64\n",
      "\n"
     ]
    },
    {
     "data": {
      "image/png": "[encoded data removed]",
      "text/plain": [
       "<Figure size 864x288 with 3 Axes>"
      ]
     },
     "metadata": {
      "needs_background": "light"
     },
     "output_type": "display_data"
    }
   ],
   "source": [
    "# Prepare Effective Area Matrix (as a function of energy and offset) as ndarray\n",
    "aeff_matrix = np.ndarray( (axis_energy_true.nbin, axis_offset.nbin) )\n",
    "\n",
    "# Compute effective area\n",
    "aeff_array = np.sum(Matrix_array, axis=1)\n",
    "\n",
    "for i in range(axis_offset.nbin):\n",
    "    aeff_matrix.transpose()[i] = aeff_array\n",
    "\n",
    "# Instantiate Effective Area object\n",
    "aeff = EffectiveAreaTable2D(axes = [axis_energy_true, axis_offset],\n",
    "                            data = aeff_matrix,\n",
    "                            unit = Matrix_unit\n",
    "                            # meta = metadata dictionary from header\n",
    "                           )\n",
    "\n",
    "# Print\n",
    "print(aeff)\n",
    "\n",
    "fig, axs = plt.subplots(1,2, figsize=(12,4))\n",
    "\n",
    "aeff.plot_energy_dependence(ax = axs[0], offset = None)\n",
    "axs[0].set_xscale('log')\n",
    "axs[0].set_yscale('log')\n",
    "\n",
    "aeff.plot(ax = axs[1], add_cbar = True)\n",
    "axs[1].set_xscale('log')\n",
    "\n",
    "plt.show()"
   ]
  },
  {
   "cell_type": "markdown",
   "id": "02285f92",
   "metadata": {},
   "source": [
    "## 2 - Doubts: PHA file and Energy Dispersion Matrix\n",
    "\n",
    "Why?\n",
    "**THE RA AND DEC ARE COMPLETELY DIFFERENT. WHY?**"
   ]
  },
  {
   "cell_type": "code",
   "execution_count": 14,
   "id": "6626a730",
   "metadata": {},
   "outputs": [
    {
     "name": "stdout",
     "output_type": "stream",
     "text": [
      "Filename: /home/gabriele/Documents/fermiGBM/Output/grb_120323_A/grb_120323_A_n0.pha\n",
      "No.    Name      Ver    Type      Cards   Dimensions   Format\n",
      "  0  PRIMARY       1 PrimaryHDU      32   ()      \n",
      "  1  EBOUNDS       1 BinTableHDU     49   128R x 3C   [I, E, E]   \n",
      "  2  SPECTRUM      1 BinTableHDU     60   128R x 3C   [I, J, I]   \n",
      "  3  GTI           1 BinTableHDU     40   1R x 2C   [D, D]   \n",
      "None\n"
     ]
    }
   ],
   "source": [
    "# Load a file that contains information about the position\n",
    "hdulist_pha = fits.open(file_pha)\n",
    "\n",
    "# Print the Information and Primary Header\n",
    "print(hdulist_pha.info())\n",
    "# hdulist_pha['PRIMARY'].header"
   ]
  },
  {
   "cell_type": "code",
   "execution_count": 15,
   "id": "af0e6d82",
   "metadata": {},
   "outputs": [
    {
     "name": "stdout",
     "output_type": "stream",
     "text": [
      "EnergyDispersion2D\n",
      "------------------\n",
      "\n",
      "  axes  : ['energy_true', 'migra', 'offset']\n",
      "  shape : (140, 100, 10)\n",
      "  ndim  : 3\n",
      "  unit  : \n",
      "  dtype : float64\n",
      "\n"
     ]
    },
    {
     "data": {
      "image/png": "[encoded data removed]",
      "text/plain": [
       "<Figure size 1080x360 with 3 Axes>"
      ]
     },
     "metadata": {
      "needs_background": "light"
     },
     "output_type": "display_data"
    }
   ],
   "source": [
    "# Create Axis of Energy Migration\n",
    "axis_energy_migr = MapAxis.from_bounds(0.1, 2.0,\n",
    "                                       nbin = 100,\n",
    "                                       name = \"migra\")\n",
    "\n",
    "# Instantiate Energy Dispersion Matrix object # I should add meta=metadata dictionary from header\n",
    "edisp = EnergyDispersion2D.from_gauss(energy_axis_true = axis_energy_true,\n",
    "                                      migra_axis       = axis_energy_migr,\n",
    "                                      offset_axis      = axis_offset,\n",
    "                                      bias             = 0,\n",
    "                                      sigma            = 0.1,\n",
    "                                      # interp           = 'lin' # Gaussian is in log\n",
    "                                     )\n",
    "\n",
    "# Print\n",
    "print(edisp)\n",
    "edisp.peek()"
   ]
  },
  {
   "cell_type": "code",
   "execution_count": 16,
   "id": "1c5ee79c",
   "metadata": {},
   "outputs": [
    {
     "data": {
      "text/plain": [
       "<AxesSubplot:xlabel='True Energy [keV]', ylabel='Energy [keV]'>"
      ]
     },
     "execution_count": 16,
     "metadata": {},
     "output_type": "execute_result"
    },
    {
     "data": {
      "image/png": "[encoded data removed]",
      "text/plain": [
       "<Figure size 432x288 with 2 Axes>"
      ]
     },
     "metadata": {
      "needs_background": "light"
     },
     "output_type": "display_data"
    }
   ],
   "source": [
    "edisp_kernel = edisp.to_edisp_kernel(offset=0.0*u.deg)\n",
    "edisp_kernel = EDispKernel.from_gauss(energy_axis_true = axis_energy_true,\n",
    "                                      energy_axis      = axis_energy_reco,\n",
    "                                      bias             = 0,\n",
    "                                      sigma            = 0.1\n",
    "                                     )\n",
    "edisp_kernel.plot_matrix(add_cbar=True)"
   ]
  },
  {
   "cell_type": "code",
   "execution_count": 17,
   "id": "be53d0e8",
   "metadata": {},
   "outputs": [
    {
     "data": {
      "text/plain": [
       "RegionNDMap\n",
       "\n",
       "\tgeom  : RegionGeom \n",
       " \taxes  : ['lon', 'lat', 'energy', 'energy_true']\n",
       "\tshape : (1, 1, 140, 140)\n",
       "\tndim  : 4\n",
       "\tunit  : \n",
       "\tdtype : float32"
      ]
     },
     "execution_count": 17,
     "metadata": {},
     "output_type": "execute_result"
    }
   ],
   "source": [
    "edisp_kermap = EDispKernelMap.from_edisp_kernel(edisp.to_edisp_kernel(offset=0.0*u.deg), geom=geom)\n",
    "edisp_kermap.edisp_map"
   ]
  },
  {
   "cell_type": "markdown",
   "id": "90ddd5c7",
   "metadata": {},
   "source": [
    "## 3 - Load the Background\n",
    "\n",
    "This is used to define the Backrgound Spectral Model.\n",
    "We also need the Lon and Lat axes."
   ]
  },
  {
   "cell_type": "code",
   "execution_count": null,
   "id": "0340111f",
   "metadata": {},
   "outputs": [],
   "source": [
    "# Create Instrument FoV_lon axis\n",
    "axis_fovlon = MapAxis.from_bounds(-5.0, 5.0,\n",
    "                                  unit = \"degree\",\n",
    "                                  nbin = 10,\n",
    "                                  name = \"fov_lon\"\n",
    "                                 )\n",
    "\n",
    "# Print\n",
    "print(axis_fovlon)\n",
    "#axis_fovlon.as_plot_labels"
   ]
  },
  {
   "cell_type": "code",
   "execution_count": null,
   "id": "4df5ca26",
   "metadata": {},
   "outputs": [],
   "source": [
    "# Create Instrument FoV_lat axis\n",
    "axis_fovlat = MapAxis.from_bounds(-5.0, 5.0,\n",
    "                                  unit = \"degree\",\n",
    "                                  nbin = 10,\n",
    "                                  name = \"fov_lat\"\n",
    "                                 )\n",
    "\n",
    "# Print\n",
    "print(axis_fovlat)\n",
    "#axis_fovlat.as_plot_labels"
   ]
  },
  {
   "cell_type": "markdown",
   "id": "b8d83041",
   "metadata": {},
   "source": [
    "Load the Background File"
   ]
  },
  {
   "cell_type": "code",
   "execution_count": null,
   "id": "122c4585",
   "metadata": {},
   "outputs": [],
   "source": [
    "hdulist_bak = fits.open(file_bak)\n",
    "\n",
    "# Print the Information and Primary Header\n",
    "print(hdulist_bak.info())\n",
    "# hdulist_bak['PRIMARY'].header"
   ]
  },
  {
   "cell_type": "code",
   "execution_count": null,
   "id": "8413a8bd",
   "metadata": {},
   "outputs": [],
   "source": [
    "bkg_e_min = hdulist_bak['EBOUNDS' ].data['E_MIN'] # keV\n",
    "bkg_e_max = hdulist_bak['EBOUNDS' ].data['E_MAX'] # keV\n",
    "bkg_rates = hdulist_bak['SPECTRUM'].data['RATE' ] # cts/s/ch\n",
    "\n",
    "bkg_quantity = bkg_rates / (bkg_e_max - bkg_e_min) * (u.keV*u.s)**(-1) # cts/s/keV\n",
    "\n",
    "# Divide by the solid angle of the Source Region\n",
    "\n",
    "bkg_quantity = bkg_quantity / geom.solid_angle() # cts/s/keV/sr"
   ]
  },
  {
   "cell_type": "code",
   "execution_count": null,
   "id": "42a81380",
   "metadata": {},
   "outputs": [],
   "source": [
    "# Prepare Background Matrix (as a function of energy, lon and lat) as ndarray\n",
    "data_bak = np.ndarray( (axis_energy_reco.nbin, axis_fovlon.nbin, axis_fovlat.nbin) )\n",
    "\n",
    "for i in range(axis_fovlat.nbin):\n",
    "    for j in range(axis_fovlon.nbin):\n",
    "        data_bak.transpose()[i][j] = bkg_quantity.value\n",
    "\n",
    "# Instantiate Background object # I should add meta=metadata dictionary from header    \n",
    "bkg = Background3D(axes = [axis_energy_reco, axis_fovlon, axis_fovlat],\n",
    "                   data = data_bak,\n",
    "                   unit = bkg_quantity.unit,\n",
    "                   #is_pointlike = False,\n",
    "                   #fov_alignment = FoVAlignment.RADEC,\n",
    "                   #meta = None,\n",
    "                   #interp_kwargs = None\n",
    "                   )\n",
    "\n",
    "# Print\n",
    "print(bkg)\n",
    "bkg.peek()"
   ]
  },
  {
   "cell_type": "markdown",
   "id": "b33554b6",
   "metadata": {},
   "source": [
    "#### Build IRFs object (dictionary)"
   ]
  },
  {
   "cell_type": "code",
   "execution_count": null,
   "id": "1e78cc52",
   "metadata": {},
   "outputs": [],
   "source": [
    "IRFs = {'aeff' : aeff,\n",
    "        'bkg'  : bkg,\n",
    "        'edisp': edisp_kermap\n",
    "       }"
   ]
  },
  {
   "cell_type": "markdown",
   "id": "1690f18b",
   "metadata": {},
   "source": [
    "## 4 - Define Temporal and Spectral Model for the simulated source"
   ]
  },
  {
   "cell_type": "code",
   "execution_count": null,
   "id": "d99adb11",
   "metadata": {},
   "outputs": [],
   "source": [
    "# Load the table from FermiGBM of the best fit\n",
    "\n",
    "GBM_original_name = '/home/gabriele/Documents/fermiGBM/Output/grb_120323_A/'\n",
    "GBM_original_name+= 'table_fit_LC_n0_10_900_keV.fits'\n",
    "\n",
    "GBM_original = QTable.read(GBM_original_name, format='fits')"
   ]
  },
  {
   "cell_type": "code",
   "execution_count": null,
   "id": "8651f6bc",
   "metadata": {},
   "outputs": [],
   "source": [
    "# Spectral model\n",
    "\n",
    "GBM_Ampli = (1.12) * (u.cm**(-2) * u.s**(-1) * u.keV**(-1))\n",
    "GBM_Index =-1.52 * u.Unit(\"\")\n",
    "GBM_Epeak = 413.79 * u.keV\n",
    "GBM_Erefe = 100.00 * u.keV\n",
    "\n",
    "spectral_model = ExpCutoffPowerLawSpectralModel(\n",
    "    amplitude = GBM_Ampli,\n",
    "    index     = - GBM_Index,\n",
    "    lambda_   = (2.0 + GBM_Index ) / GBM_Epeak,\n",
    "    reference = GBM_Erefe\n",
    ")\n",
    "\n",
    "\n",
    "# Temporal model\n",
    "\n",
    "Temporal_Model_Table_Metadata = {'MJDREFI' : int(np.modf(ref_t0.mjd)[1]),\n",
    "                                 'MJDREFF' : np.modf(ref_t0.mjd)[0],\n",
    "                                 'TIMEUNIT': GBM_original['time'].unit.to_string(),\n",
    "                                 'TIMESYS' : ref_t0.scale\n",
    "                                }\n",
    "\n",
    "Temporal_Model_Table = Table(meta = Temporal_Model_Table_Metadata)\n",
    "Temporal_Model_Table['TIME'] = GBM_original['time']\n",
    "Temporal_Model_Table['NORM'] = GBM_original['norm']\n",
    "\n",
    "temporal_model = LightCurveTemplateTemporalModel(Temporal_Model_Table)\n",
    "\n",
    "\n",
    "# Complete Source Model = Temporal & Spectral\n",
    "model_simu = SkyModel(\n",
    "    spectral_model = spectral_model,\n",
    "    temporal_model = temporal_model,\n",
    "    name           = \"model-simu\"\n",
    ")"
   ]
  },
  {
   "cell_type": "code",
   "execution_count": null,
   "id": "194b26a5",
   "metadata": {},
   "outputs": [],
   "source": [
    "# Print\n",
    "energy_bounds = [axis_energy_true.edges[0], axis_energy_true.edges[-1]]\n",
    "spectral_model.plot(energy_bounds,sed_type='flux')\n",
    "plt.grid(which=\"both\")\n",
    "plt.show()\n",
    "\n",
    "time_range = [ref_t0-0.3*u.s, ref_t0 + 0.8*u.s]\n",
    "temporal_model.plot(time_range)\n",
    "plt.grid(which=\"both\")\n",
    "plt.show()\n",
    "\n",
    "model_simu.parameters.to_table()"
   ]
  },
  {
   "cell_type": "markdown",
   "id": "7cc58ebd",
   "metadata": {},
   "source": [
    "### 4 - Define observation number, start and duration"
   ]
  },
  {
   "cell_type": "code",
   "execution_count": null,
   "id": "19fe5417",
   "metadata": {},
   "outputs": [],
   "source": [
    "time_unit  = u.s\n",
    "t_start_obs=-0.305 * time_unit # Start time of the observations wrt to trigger time ref_t0\n",
    "t_stop_obs = 0.795 * time_unit # Stop time of the observations wrt to trigger time ref_t0\n",
    "live_t_obs = 0.010 * time_unit # Time duration of each observation\n",
    "dead_times = 0.001 * time_unit # Rest time between observations\n",
    "\n",
    "# Estimate Number of observations\n",
    "n_obs = (t_stop_obs-t_start_obs)/live_t_obs\n",
    "n_obs = int(np.floor(n_obs.value))\n",
    "\n",
    "# Define starting time of each observation linearly spaced during the night\n",
    "starting_times = np.linspace(t_start_obs.value,\n",
    "                             t_stop_obs.value,\n",
    "                             num = n_obs\n",
    "                            )\n",
    "starting_times = starting_times.tolist() * time_unit\n",
    "\n",
    "# Define the duration of each observation as the difference between two following starting times\n",
    "# minus the rest time between them.\n",
    "livetimes = starting_times[1:] - starting_times[:-1] - dead_times\n",
    "\n",
    "# Remove last edge to have the same array dimesion for starting times and livetimes.\n",
    "starting_times = starting_times[:-1]\n",
    "\n",
    "# Turn them from astropy.units.quantity.Quantity to astropy.time.core.Time with t_ref\n",
    "starting_times = Time(ref_t0 + starting_times)\n",
    "\n",
    "# Adjust n_obs\n",
    "n_obs = starting_times.size"
   ]
  },
  {
   "cell_type": "code",
   "execution_count": null,
   "id": "f4281876",
   "metadata": {},
   "outputs": [],
   "source": [
    "# Get the GBM data in the Gammapy time interval\n",
    "i_start= np.argmin(np.abs(GBM_original['time'].value - t_start_obs.value))\n",
    "i_stop = np.argmin(np.abs(GBM_original['time'].value - t_stop_obs.value ))\n",
    "    \n",
    "GBM_original = GBM_original[i_start:i_stop]"
   ]
  },
  {
   "cell_type": "code",
   "execution_count": null,
   "id": "b39857a7",
   "metadata": {},
   "outputs": [],
   "source": [
    "my_EDispKernelMap = edisp_kermap"
   ]
  },
  {
   "cell_type": "code",
   "execution_count": null,
   "id": "b62f415c",
   "metadata": {},
   "outputs": [],
   "source": [
    "IRFs = {'aeff': aeff, 'bkg': bkg, 'edisp': my_EDispKernelMap}\n",
    "empty = SpectrumDataset.create(geom = geom,\n",
    "                               energy_axis_true = axis_energy_true,\n",
    "                               name = \"empty\",\n",
    "                               edisp = my_EDispKernelMap\n",
    "                              )\n",
    "maker = SpectrumDatasetMaker(selection = [\"exposure\", \"background\", \"edisp\"])\n",
    "datasets = Datasets()\n",
    "    \n",
    "for idx in range(n_obs):\n",
    "    \n",
    "    obs = Observation.create(pointing = pointing,\n",
    "                             livetime = livetimes[idx],\n",
    "                             tstart = starting_times[idx],\n",
    "                             irfs = IRFs,\n",
    "                             reference_time = ref_t0,\n",
    "                             obs_id = idx\n",
    "                            )\n",
    "    empty_i = empty.copy(name = f\"Dataset-{idx}\")\n",
    "    dataset = maker.run(empty_i, obs)\n",
    "    dataset.models = model_simu\n",
    "    dataset.fake()\n",
    "    datasets.append(dataset)"
   ]
  },
  {
   "cell_type": "code",
   "execution_count": null,
   "id": "1e9bfe48",
   "metadata": {},
   "outputs": [],
   "source": [
    "datasets.info_table()"
   ]
  },
  {
   "cell_type": "code",
   "execution_count": null,
   "id": "31141b4b",
   "metadata": {},
   "outputs": [],
   "source": []
  },
  {
   "cell_type": "code",
   "execution_count": null,
   "id": "8193a32a",
   "metadata": {},
   "outputs": [],
   "source": [
    "show_columns = ['name',\n",
    "                'counts',\n",
    "                'npred',\n",
    "                'background',\n",
    "                'npred_signal',\n",
    "                'counts_rate',\n",
    "                'background_rate'\n",
    "               ]\n",
    "\n",
    "List_of_Datasets[0].info_table()[show_columns][48:53]#, List_of_Datasets[1].info_table()[show_columns][48:53]"
   ]
  },
  {
   "cell_type": "code",
   "execution_count": null,
   "id": "47abf3ed",
   "metadata": {},
   "outputs": [],
   "source": [
    "def plot_one_curve(curve_index):\n",
    "    \n",
    "    # Define Plot Quantities\n",
    "    time_centroids = starting_times + livetimes / 2.0 - ref_t0\n",
    "    time_centroids = time_centroids.sec\n",
    "    \n",
    "    # Choose one Light curve\n",
    "    datasets = List_of_Datasets[curve_index]\n",
    "    \n",
    "    count_rates     = datasets.info_table()['counts_rate'].value\n",
    "    count_rates_err = count_rates / np.sqrt(datasets.info_table()['counts'].value) # NO!\n",
    "    \n",
    "    backg_rates     = datasets.info_table()['background_rate'].value\n",
    "    backg_rates_err = backg_rates / np.sqrt(datasets.info_table()['background'].value)  # NO!\n",
    "    \n",
    "    # Define pyplot Figure and Axes\n",
    "    fig, axs = plt.subplots(1, figsize = (15.0, 7.0) )\n",
    "    \n",
    "    # Plot Light Curve Model of best fit to GBM Data (No Background)\n",
    "    # axs.plot(GBM_original['time'].value, GBM_original['best_model'].value,\n",
    "    #          label = 'GBM Best Model (No bkg)', color = 'black'\n",
    "    #         )\n",
    "    \n",
    "    # Plot GBM Data + Error\n",
    "    axs.step(GBM_original['time'].value, GBM_original['cnt_rt'].value,\n",
    "             label = 'GBM Count rates', color = 'C1', where = 'mid'\n",
    "            )\n",
    "    axs.bar(x = GBM_original['time'].value,\n",
    "            height = 2.0 * GBM_original['cnt_rt_err'].value,\n",
    "            bottom = GBM_original['cnt_rt'].value - GBM_original['cnt_rt_err'].value,\n",
    "            width = GBM_original['time_width'].value,\n",
    "            align = 'center', color = 'C1', alpha = 0.5, #label = 'GBM count rates error'\n",
    "           )\n",
    "\n",
    "    # Plot GBM Background + Error\n",
    "    axs.step(GBM_original['time'].value, GBM_original['bkg_rt'].value,\n",
    "             label = 'GBM bkgd rates', color = 'C2', where = 'mid'\n",
    "            )\n",
    "    axs.bar(x = GBM_original['time'].value,\n",
    "            height = 2.0 * GBM_original['bkg_rt_err'].value,\n",
    "            bottom = GBM_original['bkg_rt'].value - GBM_original['bkg_rt_err'].value,\n",
    "            width = GBM_original['time_width'].value,\n",
    "            align = 'center', color = 'C2', alpha = 0.5, #label = 'GBM bkgd rates error'\n",
    "           )\n",
    "    \n",
    "    # Plot Simulated Light Curve + Error\n",
    "    axs.step(time_centroids, count_rates,\n",
    "             label = 'Simulated Count rates', color = 'C0', where = 'mid'\n",
    "            )\n",
    "    axs.bar(x = time_centroids,\n",
    "            height = 2.0 * count_rates_err,\n",
    "            bottom = count_rates - count_rates_err,\n",
    "            width = livetimes.value,\n",
    "            align = 'center', color = 'C0', alpha = 0.5, #label = 'Simulated Count rates error'\n",
    "           )\n",
    "    \n",
    "    # Plot Simulated Background + Error\n",
    "    axs.step(time_centroids, backg_rates,\n",
    "             label = 'Simulated Bkgd rates', color = 'C3', where = 'mid'\n",
    "            )\n",
    "    axs.bar(x = time_centroids,\n",
    "            height = 2.0 * backg_rates_err,\n",
    "            bottom = backg_rates - backg_rates_err,\n",
    "            width = livetimes.value,\n",
    "            align = 'center', color = 'C3', alpha = 0.5, #label = 'Simulated Bkgd rates error'\n",
    "           )\n",
    "    \n",
    "    # Set Labels\n",
    "    axs.set_xlabel('Time since trigger (s)')\n",
    "    axs.set_ylabel('Count rates (cts/s)')\n",
    "    plot_title = 'Simulated lightcurve {}/{}.'.format(curve_index+1, Number_of_LightCurves)\n",
    "    plot_title+= ' Simulation of GRB 120323 A, seen by FermiGBM detector n0.'\n",
    "    axs.set_title(plot_title)\n",
    "    axs.grid()\n",
    "    axs.legend()\n",
    "    \n",
    "    plt.show()\n",
    "    "
   ]
  },
  {
   "cell_type": "code",
   "execution_count": null,
   "id": "4a347f82",
   "metadata": {},
   "outputs": [],
   "source": [
    "plot_one_curve(0)"
   ]
  },
  {
   "cell_type": "code",
   "execution_count": null,
   "id": "31fd2715",
   "metadata": {},
   "outputs": [],
   "source": [
    "def plot_avg_LC():\n",
    "\n",
    "    # Define Plot Quantities\n",
    "    time_centroids = starting_times + livetimes / 2.0 - ref_t0\n",
    "    time_centroids = time_centroids.sec\n",
    "    \n",
    "    # Shape\n",
    "    n_rows = Number_of_LightCurves\n",
    "    n_columns = np.size(List_of_Datasets[0].info_table()['counts_rate'].value)\n",
    "    \n",
    "    all_count_rates_columns = np.empty( (n_rows, n_columns) )\n",
    "    all_backg_rates_columns = np.empty( (n_rows, n_columns) )\n",
    "    \n",
    "    for i in range(n_rows):\n",
    "        all_count_rates_columns[i] = List_of_Datasets[i].info_table()['counts_rate'    ].value\n",
    "        all_backg_rates_columns[i] = List_of_Datasets[i].info_table()['background_rate'].value\n",
    "        \n",
    "    count_rates = np.mean(all_count_rates_columns, axis=0)\n",
    "    backg_rates = np.mean(all_backg_rates_columns, axis=0)\n",
    "    \n",
    "    #count_rates_err = count_rates / np.sqrt(datasets.info_table()['counts'].value) # NO!\n",
    "    #backg_rates_err = backg_rates / np.sqrt(datasets.info_table()['background'].value)  # NO!\n",
    "    \n",
    "    # Define pyplot Figure and Axes\n",
    "    fig, axs = plt.subplots(1, figsize = (15.0, 7.0) )\n",
    "    \n",
    "    # Plot Light Curve Model of best fit to GBM Data (No Background)\n",
    "    # axs.plot(GBM_original['time'].value, GBM_original['best_model'].value,\n",
    "    #          label = 'GBM Best Model (No bkg)', color = 'black'\n",
    "    #         )\n",
    "    \n",
    "    # Plot GBM Data + Error\n",
    "    axs.step(GBM_original['time'].value, GBM_original['cnt_rt'].value,\n",
    "             label = 'GBM Count rates', color = 'C1', where = 'mid'\n",
    "            )\n",
    "    axs.bar(x = GBM_original['time'].value,\n",
    "            height = 2.0 * GBM_original['cnt_rt_err'].value,\n",
    "            bottom = GBM_original['cnt_rt'].value - GBM_original['cnt_rt_err'].value,\n",
    "            width = GBM_original['time_width'].value,\n",
    "            align = 'center', color = 'C1', alpha = 0.5, #label = 'GBM count rates error'\n",
    "           )\n",
    "\n",
    "    # Plot GBM Background + Error\n",
    "    axs.step(GBM_original['time'].value, GBM_original['bkg_rt'].value,\n",
    "             label = 'GBM bkgd rates', color = 'C2', where = 'mid'\n",
    "            )\n",
    "    axs.bar(x = GBM_original['time'].value,\n",
    "            height = 2.0 * GBM_original['bkg_rt_err'].value,\n",
    "            bottom = GBM_original['bkg_rt'].value - GBM_original['bkg_rt_err'].value,\n",
    "            width = GBM_original['time_width'].value,\n",
    "            align = 'center', color = 'C2', alpha = 0.5, #label = 'GBM bkgd rates error'\n",
    "           )\n",
    "    \n",
    "    # Plot Simulated Light Curve + Error\n",
    "    axs.step(time_centroids, count_rates,\n",
    "             label = 'Simulated Count rates', color = 'C0', where = 'mid'\n",
    "            )\n",
    "#     axs.bar(x = time_centroids,\n",
    "#             height = 2.0 * count_rates_err,\n",
    "#             bottom = count_rates - count_rates_err,\n",
    "#             width = livetimes.value,\n",
    "#             align = 'center', color = 'C0', alpha = 0.5, #label = 'Simulated Count rates error'\n",
    "#            )\n",
    "    \n",
    "    # Plot Simulated Background + Error\n",
    "    axs.step(time_centroids, backg_rates,\n",
    "             label = 'Simulated Bkgd rates', color = 'C3', where = 'mid'\n",
    "            )\n",
    "#     axs.bar(x = time_centroids,\n",
    "#             height = 2.0 * backg_rates_err,\n",
    "#             bottom = backg_rates - backg_rates_err,\n",
    "#             width = livetimes.value,\n",
    "#             align = 'center', color = 'C3', alpha = 0.5, #label = 'Simulated Bkgd rates error'\n",
    "#            )\n",
    "    \n",
    "    # Set Labels\n",
    "    axs.set_xlabel('Time since trigger (s)')\n",
    "    axs.set_ylabel('Count rates (cts/s)')\n",
    "    plot_title = 'Averaged simulated lightcurve of GRB 120323 A, seen by FermiGBM detector n0.'\n",
    "    axs.set_title(plot_title)\n",
    "    axs.grid()\n",
    "    axs.legend()\n",
    "    \n",
    "    plt.show()\n",
    "    return None"
   ]
  },
  {
   "cell_type": "code",
   "execution_count": null,
   "id": "90df796a",
   "metadata": {},
   "outputs": [],
   "source": [
    "plot_avg_LC()"
   ]
  },
  {
   "cell_type": "code",
   "execution_count": null,
   "id": "95b58af3",
   "metadata": {
    "scrolled": false
   },
   "outputs": [],
   "source": []
  },
  {
   "cell_type": "markdown",
   "id": "2312fb01",
   "metadata": {},
   "source": [
    "# Flux Points"
   ]
  },
  {
   "cell_type": "code",
   "execution_count": null,
   "id": "c000bfea",
   "metadata": {},
   "outputs": [],
   "source": [
    "# Drop the Temporal Model, attach only the Spectral Model to all SpectrumDataset objects\n",
    "datasets.models = SkyModel(spectral_model = spectral_model, name = \"model-fit\")\n",
    "datasets.models.to_parameters_table()"
   ]
  },
  {
   "cell_type": "code",
   "execution_count": null,
   "id": "36fe79a7",
   "metadata": {},
   "outputs": [],
   "source": [
    "# Estimate a Flux Points light curve, each point is the flux of an observation\n",
    "# The estimator fits the norm of the source model component to datasets in each time interval GTI.\n",
    "#%%time\n",
    "lc_maker_1d = LightCurveEstimator(energy_edges = [axis_energy_true.edges[0], axis_energy_true.edges[-1]],#OR RECO?\n",
    "                                  source = \"model-fit\",\n",
    "                                  selection_optional = [\"ul\"]\n",
    "                                 )\n",
    "# \"all\": all the optional steps are executed\n",
    "# \"errn-errp\": estimate asymmetric errors.\n",
    "# \"ul\": estimate upper limits.\n",
    "# \"scan\": estimate fit statistic profiles.\n",
    "\n",
    "lc_1d = lc_maker_1d.run(datasets)"
   ]
  },
  {
   "cell_type": "code",
   "execution_count": null,
   "id": "880adfb9",
   "metadata": {},
   "outputs": [],
   "source": [
    "ax = lc_1d.plot(sed_type = \"flux\",  # \"dnde\", “flux”, “eflux”, “e2dnde”\n",
    "                energy_power = 1.0, # Power of energy to multiply flux axis with\n",
    "                marker = \"o\",\n",
    "                label = \"Simulated_LC\")\n",
    "\n",
    "pl_start = ref_t0 - 0.3 * u.s\n",
    "pl_end   = ref_t0 + 0.8 * u.s\n",
    "#ax.set_xlim(pl_start.plot_date, pl_end.plot_date)\n"
   ]
  },
  {
   "cell_type": "code",
   "execution_count": null,
   "id": "f0c69cf8",
   "metadata": {},
   "outputs": [],
   "source": [
    "# Stack the Datasets into one Spectrum Dataset\n",
    "Stacked_spectrum_dataset = datasets.stack_reduce(name = 'Stacked_sim_ds')"
   ]
  },
  {
   "cell_type": "code",
   "execution_count": null,
   "id": "e8646ac9",
   "metadata": {},
   "outputs": [],
   "source": [
    "fig, ax = plt.subplots(1, figsize = (7,5))\n",
    "Stacked_spectrum_dataset.plot_counts(ax=ax)\n",
    "ax.set_xscale('log')\n",
    "ax.set_title('Spectrum time-integrated (stacked)')\n",
    "plt.grid()\n",
    "plt.show()"
   ]
  },
  {
   "cell_type": "markdown",
   "id": "9239c8bc",
   "metadata": {},
   "source": [
    "# Extra"
   ]
  },
  {
   "cell_type": "code",
   "execution_count": null,
   "id": "1d3a6328",
   "metadata": {},
   "outputs": [],
   "source": [
    "# from gammapy.maps import Map\n",
    "# import logging\n",
    "# import numpy as np\n",
    "# from astropy.coordinates import Angle, SkyOffsetFrame\n",
    "# from astropy.table import Table\n",
    "# from gammapy.irf import EDispMap, FoVAlignment, PSFMap\n",
    "# from gammapy.maps import Map, RegionNDMap\n",
    "# from gammapy.modeling.models import PowerLawSpectralModel\n",
    "# from gammapy.stats import WStatCountsStatistic\n",
    "# from gammapy.utils.coordinates import sky_to_fov\n",
    "# from gammapy.utils.regions import compound_region_to_regions\n",
    "\n",
    "# def make_map_background_irf(pointing, ontime, bkg, geom, oversampling=None, use_region_center=True):\n",
    "\n",
    "#     coords = {\"energy\": geom.axes[\"energy\"].edges.reshape((-1, 1, 1))}\n",
    "\n",
    "#     image_geom = geom.to_image()\n",
    "\n",
    "#     d_omega = image_geom.solid_angle()\n",
    "\n",
    "#     map_coord = image_geom.get_coord()\n",
    "\n",
    "#     sky_coord = map_coord.skycoord\n",
    "\n",
    "    \n",
    "#     # Create OffsetFrame\n",
    "#     frame = SkyOffsetFrame(origin = pointing.radec)\n",
    "#     pseudo_fov_coord = sky_coord.transform_to(frame)\n",
    "#     fov_lon = pseudo_fov_coord.lon\n",
    "#     fov_lat = pseudo_fov_coord.lat\n",
    "\n",
    "#     coords[\"fov_lon\"] = fov_lon\n",
    "#     coords[\"fov_lat\"] = fov_lat\n",
    "\n",
    "#     bkg_de = bkg.integrate_log_log(**coords, axis_name=\"energy\")\n",
    "    \n",
    "#     #print(bkg_de)\n",
    "#     #print(bkg_de * d_omega * ontime)\n",
    "#     data = (bkg_de * d_omega * ontime).to_value(\"\")\n",
    "#     #print(data)\n",
    "\n",
    "#     bkg_map = Map.from_geom(geom, data=data)\n",
    "\n",
    "#     return bkg_map\n",
    "\n",
    "# a = make_map_background_irf(pointing = obs.fixed_pointing_info,\n",
    "#                             ontime = obs.observation_time_duration,\n",
    "#                             bkg = obs.bkg,\n",
    "#                             geom = geom,\n",
    "#                             oversampling = maker.background_oversampling,\n",
    "#                             use_region_center = getattr(maker, \"use_region_center\", True)\n",
    "#                            )\n",
    "# #a.data"
   ]
  },
  {
   "cell_type": "code",
   "execution_count": null,
   "id": "1bbc92e3",
   "metadata": {},
   "outputs": [],
   "source": [
    "# mybkg = obs.bkg\n",
    "# coords = {\"energy\": geom.axes[\"energy\"].edges.reshape((-1, 1, 1))}\n",
    "# coords[\"fov_lon\"] = 0.0*u.deg\n",
    "# coords[\"fov_lat\"] = 0.0*u.deg\n",
    "\n",
    "\n",
    "# mybkg = mybkg.integrate_log_log(**coords, axis_name = 'energy')\n",
    "# mybkg = mybkg *geom.solid_angle() * obs.observation_time_duration\n",
    "# mybkg = mybkg.to_value(\"\")\n",
    "# np.sum(mybkg.T[0][0])"
   ]
  },
  {
   "cell_type": "code",
   "execution_count": null,
   "id": "51ee012d",
   "metadata": {},
   "outputs": [],
   "source": []
  }
 ],
 "metadata": {
  "kernelspec": {
   "display_name": "Python 3 (ipykernel)",
   "language": "python",
   "name": "python3"
  },
  "language_info": {
   "codemirror_mode": {
    "name": "ipython",
    "version": 3
   },
   "file_extension": ".py",
   "mimetype": "text/x-python",
   "name": "python",
   "nbconvert_exporter": "python",
   "pygments_lexer": "ipython3",
   "version": "3.8.13"
  },
  "varInspector": {
   "cols": {
    "lenName": 16,
    "lenType": 16,
    "lenVar": 40
   },
   "kernels_config": {
    "python": {
     "delete_cmd_postfix": "",
     "delete_cmd_prefix": "del ",
     "library": "var_list.py",
     "varRefreshCmd": "print(var_dic_list())"
    },
    "r": {
     "delete_cmd_postfix": ") ",
     "delete_cmd_prefix": "rm(",
     "library": "var_list.r",
     "varRefreshCmd": "cat(var_dic_list()) "
    }
   },
   "types_to_exclude": [
    "module",
    "function",
    "builtin_function_or_method",
    "instance",
    "_Feature"
   ],
   "window_display": false
  }
 },
 "nbformat": 4,
 "nbformat_minor": 5
}
