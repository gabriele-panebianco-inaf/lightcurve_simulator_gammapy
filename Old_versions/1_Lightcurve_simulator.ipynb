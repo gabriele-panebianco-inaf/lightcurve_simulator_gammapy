{
 "cells": [
  {
   "cell_type": "markdown",
   "id": "28d1f96e",
   "metadata": {},
   "source": [
    "# Lightcurve simulator from Fermi-GBM files\n",
    "\n",
    "The goal of this notebook is to simulate a light curve given a set of IRFs (Background, Effective Area, Energy Dispersion Matrix) and a model (temporal and spectral).\n",
    "\n",
    "Requested external files:\n",
    "- **.arf** file: contains effective area as a function of energy. \n",
    "- **.bak** file: contains the background model (bkg count rate) as a function of energy.\n",
    "\n",
    "From these files we must also get the position, reference time of the burst, energy range of the detector.\n",
    "\n",
    "#### How to get IRFs from Fermi-GBM compatible with Gammapy\n",
    "\n",
    "*Fermi-GBM* does not have a full-sky background model nor files with average effective areas.\n",
    "In order to get the IRFs we must thus choose a GRB observation from the archive (with fixed trigger date and sky position), one detector and perform preliminary analysis using the python *GBM Data Tools*.\n",
    "The Fermi-GBM files we need are the event list and the detector response:\n",
    "- When we choose a detector (there is a list of suggested detectors that saw the GRB with low offset angles) we use the *TTE* FITS file to create the background. The TTE file is an event file that contains unbinned observed counts (both of GRB and background) as a function of time and energy. We must select temporal intervals that have no source and interpolate them to create the background model. The background model is then written to a **.bak** file, a standard format for XSPEC FITS files, where the background is expressed as count rate as a function of energy only.\n",
    "- The Fermi-GBM response for the chosen observation is given in a *.rsp* FITS file. It contains both the effective area and the channel-energy calibration relationship. It must be splitted into two files by using the HEASARC FTOOLS *ftrsp2rmfarf* into a **.rmf** file (Energy vs Channel) and a **.arf** file (Effective area vs Energy).\n",
    "\n",
    "The *.bak* and *.arf* files are compatible with Gammapy IRFs classes, if we assume that background and effective area are constant with FoV offset.\n",
    "This is because Gammapy classes `BackGround2D` and `EffectiveArea2D` are functions not only of energy, but of FoV offset too, while Fermi-GBM files (TTE and RSP) **do not** include offset dependence, the spatial analysis was done privately by the GBM team.\n",
    "\n",
    "#### On the definition of the Energy Dispersion Matrix\n",
    "Gammapy also requires a `EnergyDispersion2D` object that shows the probability that a *true photon energy* is reconstructed by an IACT with a given *reconstructed photon energy*.\n",
    "It is a function of FoV offset, true energy and migration parameter (ratio between true and reconstructed energy).\n",
    "It does not have a direct equivalent in Fermi-GBM response files, hence we assumed it to be diagonal in energy (energy reconstructed=energy true) and constant in offset.\n",
    "\n",
    "The most similar quantity in Fermi-GBM files is the Detector Response Matrix (DRM), contained in the \n",
    "*.rsp* file, altough that is the Effective Area as a function of \"Photon Energy\" and \"Channel Energy\".\n",
    "I am not sure on how we can pass from this matrix to the requested Energy Dispersion.\n"
   ]
  },
  {
   "cell_type": "markdown",
   "id": "07c697e4",
   "metadata": {},
   "source": [
    "### 0 - Setup: import packages of the environment gammapy-0.20"
   ]
  },
  {
   "cell_type": "code",
   "execution_count": 1,
   "id": "3b2b7935",
   "metadata": {},
   "outputs": [],
   "source": [
    "import matplotlib.pyplot as plt\n",
    "import numpy as np\n",
    "import pandas as pd\n",
    "\n",
    "import astropy.units as u\n",
    "from astropy.coordinates import SkyCoord\n",
    "from astropy.time import Time\n",
    "from astropy.table import Table\n",
    "from astropy.io import fits\n",
    "\n",
    "import logging\n",
    "log = logging.getLogger(__name__)"
   ]
  },
  {
   "cell_type": "code",
   "execution_count": 2,
   "id": "74044b11",
   "metadata": {},
   "outputs": [],
   "source": [
    "from gammapy.data import Observation\n",
    "from gammapy.data import observatory_locations\n",
    "from gammapy.datasets import SpectrumDataset, Datasets, FluxPointsDataset\n",
    "from gammapy.estimators import LightCurveEstimator\n",
    "from gammapy.irf import (\n",
    "    load_cta_irfs,\n",
    "    EffectiveAreaTable2D,\n",
    "    Background2D, Background3D,\n",
    "    EnergyDispersion2D,\n",
    "    FoVAlignment\n",
    ")\n",
    "from gammapy.makers import SpectrumDatasetMaker\n",
    "from gammapy.maps import MapAxis, RegionGeom, TimeMapAxis\n",
    "from gammapy.modeling import Fit\n",
    "from gammapy.modeling.models import (\n",
    "    PowerLawSpectralModel,\n",
    "    ExpDecayTemporalModel,\n",
    "    SkyModel,\n",
    "    ExpCutoffPowerLaw3FGLSpectralModel\n",
    ")"
   ]
  },
  {
   "cell_type": "code",
   "execution_count": 3,
   "id": "6271b331",
   "metadata": {},
   "outputs": [],
   "source": [
    "TimeMapAxis.time_format = \"iso\" # Define preferred time format"
   ]
  },
  {
   "cell_type": "markdown",
   "id": "90ddd5c7",
   "metadata": {},
   "source": [
    "### 1 - Define IRFs: Effective Area, Spectral Background model, Energy Dispersion Matrix "
   ]
  },
  {
   "cell_type": "markdown",
   "id": "c20bd037",
   "metadata": {},
   "source": [
    "#### Load Effective Area file (.arf) and Background Spectral Model (.bak)"
   ]
  },
  {
   "cell_type": "code",
   "execution_count": 4,
   "id": "122c4585",
   "metadata": {},
   "outputs": [],
   "source": [
    "input_directory = \"/home/gabriele/Documents/mydata/xspec_GBM_GRB120323A/\"\n",
    "file_arf = input_directory+'GRB120323A_b0.arf'\n",
    "file_bak = input_directory+'GRB120323A_b0.bak'\n",
    "\n",
    "hdul_arf = fits.open(file_arf)\n",
    "hdul_bak = fits.open(file_bak)"
   ]
  },
  {
   "cell_type": "code",
   "execution_count": 5,
   "id": "32cc5fd0",
   "metadata": {},
   "outputs": [
    {
     "name": "stdout",
     "output_type": "stream",
     "text": [
      "Effective Area:\n",
      "\n",
      "Filename: /home/gabriele/Documents/mydata/xspec_GBM_GRB120323A/GRB120323A_b0.arf\n",
      "No.    Name      Ver    Type      Cards   Dimensions   Format\n",
      "  0  PRIMARY       1 PrimaryHDU       6   ()      \n",
      "  1  SPECRESP      1 BinTableHDU     28   140R x 3C   [E, E, E]   \n",
      "None\n",
      "ColDefs(\n",
      "    name = 'ENERG_LO'; format = 'E'; unit = 'keV'\n",
      "    name = 'ENERG_HI'; format = 'E'; unit = 'keV'\n",
      "    name = 'SPECRESP'; format = 'E'; unit = 'cm**2'\n",
      ")\n",
      "\n",
      "\n",
      "Background Spectral model:\n",
      "\n",
      "Filename: /home/gabriele/Documents/mydata/xspec_GBM_GRB120323A/GRB120323A_b0.bak\n",
      "No.    Name      Ver    Type      Cards   Dimensions   Format\n",
      "  0  PRIMARY       1 PrimaryHDU      32   ()      \n",
      "  1  EBOUNDS       1 BinTableHDU     49   128R x 3C   [I, E, E]   \n",
      "  2  SPECTRUM      1 BinTableHDU     60   128R x 3C   [I, D, D]   \n",
      "  3  GTI           1 BinTableHDU     40   1R x 2C   [D, D]   \n",
      "None\n",
      "ColDefs(\n",
      "    name = 'CHANNEL'; format = 'I'\n",
      "    name = 'E_MIN'; format = 'E'\n",
      "    name = 'E_MAX'; format = 'E'\n",
      ")\n",
      "ColDefs(\n",
      "    name = 'CHANNEL'; format = 'I'\n",
      "    name = 'RATE'; format = 'D'\n",
      "    name = 'STAT_ERR'; format = 'D'\n",
      ")\n"
     ]
    }
   ],
   "source": [
    "# Explore FITS file to get the correct headers and column names and units.\n",
    "print(\"Effective Area:\\n\")\n",
    "print(hdul_arf.info())\n",
    "print(hdul_arf[1].columns)\n",
    "\n",
    "print(\"\\n\\nBackground Spectral model:\\n\")\n",
    "print(hdul_bak.info())\n",
    "print(hdul_bak[1].columns)\n",
    "print(hdul_bak[2].columns)"
   ]
  },
  {
   "cell_type": "code",
   "execution_count": 6,
   "id": "49be3d36",
   "metadata": {},
   "outputs": [],
   "source": [
    "# Data & Names relatives to Effective Area\n",
    "name_arf_HDU = 'SPECRESP' # Name of the HDU that contains effective area\n",
    "name_arf_LoE = 'ENERG_LO' # Name of the Low-edge of energy bin for effective area in name_arf_HDU\n",
    "name_arf_HiE = 'ENERG_HI' # Name of the Low-edge of energy bin for effective area in name_arf_HDU\n",
    "unit_astro_E = u.keV      # Unit of Energy as Astropy Unit\n",
    "unit_astro_aef = u.cm**2      # Unit of Effective Area as Astropy Unit\n",
    "\n",
    "# Data & Names relatives to Background Spectral Model\n",
    "dict_bak = {'CHANNEL' :hdul_bak['EBOUNDS' ].data['CHANNEL'],\n",
    "            'E_MIN'   :hdul_bak['EBOUNDS' ].data['E_MIN'],\n",
    "            'E_MAX'   :hdul_bak['EBOUNDS' ].data['E_MAX'],\n",
    "            'RATE'    :hdul_bak['SPECTRUM'].data['RATE'],\n",
    "            'STAT_ERR':hdul_bak['SPECTRUM'].data['STAT_ERR']}\n",
    "unit_astro_bkg = (u.keV*u.s*u.sr)**(-1)"
   ]
  },
  {
   "cell_type": "markdown",
   "id": "dba23f80",
   "metadata": {},
   "source": [
    "Create Offset Axis."
   ]
  },
  {
   "cell_type": "code",
   "execution_count": 7,
   "id": "c0c0a839",
   "metadata": {},
   "outputs": [
    {
     "name": "stdout",
     "output_type": "stream",
     "text": [
      "MapAxis\n",
      "\n",
      "\tname       : offset    \n",
      "\tunit       : 'deg'     \n",
      "\tnbins      : 5         \n",
      "\tnode type  : edges     \n",
      "\tedges min  : 1.0e+00 deg\n",
      "\tedges max  : 5.0e+00 deg\n",
      "\tinterp     : lin       \n",
      "\n"
     ]
    },
    {
     "data": {
      "text/plain": [
       "['1.00e+00 deg - 1.80e+00 deg',\n",
       " '1.80e+00 deg - 2.60e+00 deg',\n",
       " '2.60e+00 deg - 3.40e+00 deg',\n",
       " '3.40e+00 deg - 4.20e+00 deg',\n",
       " '4.20e+00 deg - 5.00e+00 deg']"
      ]
     },
     "execution_count": 7,
     "metadata": {},
     "output_type": "execute_result"
    }
   ],
   "source": [
    "# Create Offset axis\n",
    "axis_offset = MapAxis.from_bounds(1.0, 5.0, unit=\"degree\", nbin=5, name=\"offset\")\n",
    "\n",
    "# Print\n",
    "print(axis_offset)\n",
    "axis_offset.as_plot_labels"
   ]
  },
  {
   "cell_type": "markdown",
   "id": "81bb25e7",
   "metadata": {},
   "source": [
    "#### Create True Energy Axis from the .arf (Effective Area file). It is going to be used by Aeff and Edisp."
   ]
  },
  {
   "cell_type": "code",
   "execution_count": 8,
   "id": "7d7995e9",
   "metadata": {},
   "outputs": [
    {
     "data": {
      "text/html": [
       "<div>\n",
       "<style scoped>\n",
       "    .dataframe tbody tr th:only-of-type {\n",
       "        vertical-align: middle;\n",
       "    }\n",
       "\n",
       "    .dataframe tbody tr th {\n",
       "        vertical-align: top;\n",
       "    }\n",
       "\n",
       "    .dataframe thead th {\n",
       "        text-align: right;\n",
       "    }\n",
       "</style>\n",
       "<table border=\"1\" class=\"dataframe\">\n",
       "  <thead>\n",
       "    <tr style=\"text-align: right;\">\n",
       "      <th></th>\n",
       "      <th>ENERG_LO</th>\n",
       "      <th>ENERG_HI</th>\n",
       "      <th>SPECRESP</th>\n",
       "    </tr>\n",
       "  </thead>\n",
       "  <tbody>\n",
       "    <tr>\n",
       "      <th>1</th>\n",
       "      <td>105.579002</td>\n",
       "      <td>111.470001</td>\n",
       "      <td>32.306133</td>\n",
       "    </tr>\n",
       "    <tr>\n",
       "      <th>2</th>\n",
       "      <td>111.470001</td>\n",
       "      <td>117.689003</td>\n",
       "      <td>51.826759</td>\n",
       "    </tr>\n",
       "    <tr>\n",
       "      <th>3</th>\n",
       "      <td>117.689003</td>\n",
       "      <td>124.254997</td>\n",
       "      <td>71.884880</td>\n",
       "    </tr>\n",
       "    <tr>\n",
       "      <th>4</th>\n",
       "      <td>124.254997</td>\n",
       "      <td>131.188004</td>\n",
       "      <td>91.076569</td>\n",
       "    </tr>\n",
       "    <tr>\n",
       "      <th>5</th>\n",
       "      <td>131.188004</td>\n",
       "      <td>138.507004</td>\n",
       "      <td>106.474533</td>\n",
       "    </tr>\n",
       "    <tr>\n",
       "      <th>...</th>\n",
       "      <td>...</td>\n",
       "      <td>...</td>\n",
       "      <td>...</td>\n",
       "    </tr>\n",
       "    <tr>\n",
       "      <th>134</th>\n",
       "      <td>144397.000000</td>\n",
       "      <td>152453.000000</td>\n",
       "      <td>220.899979</td>\n",
       "    </tr>\n",
       "    <tr>\n",
       "      <th>135</th>\n",
       "      <td>152453.000000</td>\n",
       "      <td>160959.000000</td>\n",
       "      <td>212.975616</td>\n",
       "    </tr>\n",
       "    <tr>\n",
       "      <th>136</th>\n",
       "      <td>160959.000000</td>\n",
       "      <td>169939.000000</td>\n",
       "      <td>201.019135</td>\n",
       "    </tr>\n",
       "    <tr>\n",
       "      <th>137</th>\n",
       "      <td>169939.000000</td>\n",
       "      <td>179421.000000</td>\n",
       "      <td>189.152267</td>\n",
       "    </tr>\n",
       "    <tr>\n",
       "      <th>138</th>\n",
       "      <td>179421.000000</td>\n",
       "      <td>189431.000000</td>\n",
       "      <td>177.396622</td>\n",
       "    </tr>\n",
       "  </tbody>\n",
       "</table>\n",
       "<p>138 rows × 3 columns</p>\n",
       "</div>"
      ],
      "text/plain": [
       "          ENERG_LO       ENERG_HI    SPECRESP\n",
       "1       105.579002     111.470001   32.306133\n",
       "2       111.470001     117.689003   51.826759\n",
       "3       117.689003     124.254997   71.884880\n",
       "4       124.254997     131.188004   91.076569\n",
       "5       131.188004     138.507004  106.474533\n",
       "..             ...            ...         ...\n",
       "134  144397.000000  152453.000000  220.899979\n",
       "135  152453.000000  160959.000000  212.975616\n",
       "136  160959.000000  169939.000000  201.019135\n",
       "137  169939.000000  179421.000000  189.152267\n",
       "138  179421.000000  189431.000000  177.396622\n",
       "\n",
       "[138 rows x 3 columns]"
      ]
     },
     "execution_count": 8,
     "metadata": {},
     "output_type": "execute_result"
    }
   ],
   "source": [
    "# Store relevant quantities in a DataFrame and exclude some energy bins\n",
    "DaFr_arf = pd.DataFrame(hdul_arf[name_arf_HDU].data)[1:-1]\n",
    "\n",
    "DaFr_arf"
   ]
  },
  {
   "cell_type": "code",
   "execution_count": 9,
   "id": "87ae932f",
   "metadata": {},
   "outputs": [
    {
     "name": "stdout",
     "output_type": "stream",
     "text": [
      "MapAxis\n",
      "\n",
      "\tname       : energy_true\n",
      "\tunit       : 'keV'     \n",
      "\tnbins      : 138       \n",
      "\tnode type  : edges     \n",
      "\tedges min  : 1.1e+02 keV\n",
      "\tedges max  : 1.9e+05 keV\n",
      "\tinterp     : lin       \n",
      "\n"
     ]
    }
   ],
   "source": [
    "# Energy edges are taken from the lower edges column, plus the last of the higer edges to include the last bin.\n",
    "energy_true_edges = (DaFr_arf[name_arf_LoE].tolist()+[DaFr_arf[name_arf_HiE].iloc[-1]]) * unit_astro_E\n",
    "\n",
    "# Define Energy True axis. Interpolation: 'log' is default, 'lin' used by keV instruments\n",
    "axis_energy_true  = MapAxis.from_energy_edges(energy_true_edges,\n",
    "                                              name = \"energy_true\",\n",
    "                                              interp = 'lin' #'lin'\n",
    "                                             )\n",
    "\n",
    "# Print\n",
    "print(axis_energy_true)\n",
    "# axis_energy_true.as_plot_labels"
   ]
  },
  {
   "cell_type": "markdown",
   "id": "b0bd5c7b",
   "metadata": {},
   "source": [
    "#### Create (Reco) Energy Axis from the .bak (Background Spectral model file). It is going to be used in Bkg and Edisp."
   ]
  },
  {
   "cell_type": "code",
   "execution_count": 10,
   "id": "fa064014",
   "metadata": {},
   "outputs": [
    {
     "data": {
      "text/html": [
       "<div>\n",
       "<style scoped>\n",
       "    .dataframe tbody tr th:only-of-type {\n",
       "        vertical-align: middle;\n",
       "    }\n",
       "\n",
       "    .dataframe tbody tr th {\n",
       "        vertical-align: top;\n",
       "    }\n",
       "\n",
       "    .dataframe thead th {\n",
       "        text-align: right;\n",
       "    }\n",
       "</style>\n",
       "<table border=\"1\" class=\"dataframe\">\n",
       "  <thead>\n",
       "    <tr style=\"text-align: right;\">\n",
       "      <th></th>\n",
       "      <th>CHANNEL</th>\n",
       "      <th>E_MIN</th>\n",
       "      <th>E_MAX</th>\n",
       "      <th>RATE</th>\n",
       "      <th>STAT_ERR</th>\n",
       "    </tr>\n",
       "  </thead>\n",
       "  <tbody>\n",
       "    <tr>\n",
       "      <th>1</th>\n",
       "      <td>1</td>\n",
       "      <td>216.706970</td>\n",
       "      <td>250.773270</td>\n",
       "      <td>78.150694</td>\n",
       "      <td>0.539997</td>\n",
       "    </tr>\n",
       "    <tr>\n",
       "      <th>2</th>\n",
       "      <td>2</td>\n",
       "      <td>250.773270</td>\n",
       "      <td>284.649506</td>\n",
       "      <td>72.993404</td>\n",
       "      <td>0.533588</td>\n",
       "    </tr>\n",
       "    <tr>\n",
       "      <th>3</th>\n",
       "      <td>3</td>\n",
       "      <td>284.649506</td>\n",
       "      <td>318.347656</td>\n",
       "      <td>62.176809</td>\n",
       "      <td>0.527442</td>\n",
       "    </tr>\n",
       "    <tr>\n",
       "      <th>4</th>\n",
       "      <td>4</td>\n",
       "      <td>318.347656</td>\n",
       "      <td>351.879639</td>\n",
       "      <td>57.811752</td>\n",
       "      <td>0.524790</td>\n",
       "    </tr>\n",
       "    <tr>\n",
       "      <th>5</th>\n",
       "      <td>5</td>\n",
       "      <td>351.879639</td>\n",
       "      <td>385.257446</td>\n",
       "      <td>64.827815</td>\n",
       "      <td>0.529911</td>\n",
       "    </tr>\n",
       "    <tr>\n",
       "      <th>...</th>\n",
       "      <td>...</td>\n",
       "      <td>...</td>\n",
       "      <td>...</td>\n",
       "      <td>...</td>\n",
       "      <td>...</td>\n",
       "    </tr>\n",
       "    <tr>\n",
       "      <th>122</th>\n",
       "      <td>122</td>\n",
       "      <td>34198.585938</td>\n",
       "      <td>36027.074219</td>\n",
       "      <td>1.514420</td>\n",
       "      <td>0.486793</td>\n",
       "    </tr>\n",
       "    <tr>\n",
       "      <th>123</th>\n",
       "      <td>123</td>\n",
       "      <td>36027.074219</td>\n",
       "      <td>37989.234375</td>\n",
       "      <td>1.386072</td>\n",
       "      <td>0.486726</td>\n",
       "    </tr>\n",
       "    <tr>\n",
       "      <th>124</th>\n",
       "      <td>124</td>\n",
       "      <td>37989.234375</td>\n",
       "      <td>40107.546875</td>\n",
       "      <td>1.077159</td>\n",
       "      <td>0.486767</td>\n",
       "    </tr>\n",
       "    <tr>\n",
       "      <th>125</th>\n",
       "      <td>125</td>\n",
       "      <td>40107.546875</td>\n",
       "      <td>42526.738281</td>\n",
       "      <td>2.286869</td>\n",
       "      <td>0.486740</td>\n",
       "    </tr>\n",
       "    <tr>\n",
       "      <th>126</th>\n",
       "      <td>126</td>\n",
       "      <td>42526.738281</td>\n",
       "      <td>45247.671875</td>\n",
       "      <td>3.520085</td>\n",
       "      <td>0.492584</td>\n",
       "    </tr>\n",
       "  </tbody>\n",
       "</table>\n",
       "<p>126 rows × 5 columns</p>\n",
       "</div>"
      ],
      "text/plain": [
       "     CHANNEL         E_MIN         E_MAX       RATE  STAT_ERR\n",
       "1          1    216.706970    250.773270  78.150694  0.539997\n",
       "2          2    250.773270    284.649506  72.993404  0.533588\n",
       "3          3    284.649506    318.347656  62.176809  0.527442\n",
       "4          4    318.347656    351.879639  57.811752  0.524790\n",
       "5          5    351.879639    385.257446  64.827815  0.529911\n",
       "..       ...           ...           ...        ...       ...\n",
       "122      122  34198.585938  36027.074219   1.514420  0.486793\n",
       "123      123  36027.074219  37989.234375   1.386072  0.486726\n",
       "124      124  37989.234375  40107.546875   1.077159  0.486767\n",
       "125      125  40107.546875  42526.738281   2.286869  0.486740\n",
       "126      126  42526.738281  45247.671875   3.520085  0.492584\n",
       "\n",
       "[126 rows x 5 columns]"
      ]
     },
     "execution_count": 10,
     "metadata": {},
     "output_type": "execute_result"
    }
   ],
   "source": [
    "# Store relevant quantities in DataFrames and exclude some eneergy bins.\n",
    "DaFr_bak = pd.DataFrame(dict_bak)[1:-1]\n",
    "\n",
    "DaFr_bak"
   ]
  },
  {
   "cell_type": "code",
   "execution_count": 11,
   "id": "cfb2946f",
   "metadata": {},
   "outputs": [
    {
     "name": "stdout",
     "output_type": "stream",
     "text": [
      "MapAxis\n",
      "\n",
      "\tname       : energy    \n",
      "\tunit       : 'keV'     \n",
      "\tnbins      : 126       \n",
      "\tnode type  : edges     \n",
      "\tedges min  : 2.2e+02 keV\n",
      "\tedges max  : 4.5e+04 keV\n",
      "\tinterp     : lin       \n",
      "\n"
     ]
    }
   ],
   "source": [
    "# Energy edges are taken from the lower edges column, plus the last of the higer edges to include the last bin.\n",
    "energy_reco_edges = (DaFr_bak['E_MIN'].tolist()+[DaFr_bak['E_MAX'].iloc[-1]]) * unit_astro_E\n",
    "\n",
    "# Define (Reco )Energy axis. Interpolation: 'log' is default, 'lin' used by keV instruments\n",
    "axis_energy_reco = MapAxis.from_energy_edges(energy_reco_edges,\n",
    "                                             name = \"energy\",\n",
    "                                             interp = 'lin' #'lin'\n",
    "                                            )\n",
    "\n",
    "# Print\n",
    "print(axis_energy_reco)\n",
    "# axis_energy_reco.as_plot_labels"
   ]
  },
  {
   "cell_type": "markdown",
   "id": "850acb19",
   "metadata": {},
   "source": [
    "#### Create Effective area object"
   ]
  },
  {
   "cell_type": "code",
   "execution_count": 12,
   "id": "cf9d3146",
   "metadata": {},
   "outputs": [
    {
     "name": "stdout",
     "output_type": "stream",
     "text": [
      "EffectiveAreaTable2D\n",
      "--------------------\n",
      "\n",
      "  axes  : ['energy_true', 'offset']\n",
      "  shape : (138, 5)\n",
      "  ndim  : 2\n",
      "  unit  : cm2\n",
      "  dtype : float64\n",
      "\n"
     ]
    },
    {
     "data": {
      "image/png": "[encoded data removed]",
      "text/plain": [
       "<Figure size 1080x360 with 4 Axes>"
      ]
     },
     "metadata": {
      "needs_background": "light"
     },
     "output_type": "display_data"
    }
   ],
   "source": [
    "# Prepare Effective Area Matrix (as a function of energy and offset) as ndarray\n",
    "data_arf = np.ndarray( (axis_energy_true.nbin, axis_offset.nbin) )\n",
    "\n",
    "for i in range(axis_offset.nbin):\n",
    "    data_arf.transpose()[i] = DaFr_arf[name_arf_HDU].to_numpy()\n",
    "\n",
    "# Instantiate Effective Area object # I should add meta=metadata dictionary from header\n",
    "aeff = EffectiveAreaTable2D(axes = [axis_energy_true, axis_offset],\n",
    "                            data = data_arf,\n",
    "                            unit = unit_astro_aef\n",
    "                           )\n",
    "\n",
    "# Print\n",
    "print(aeff)\n",
    "aeff.peek()"
   ]
  },
  {
   "cell_type": "markdown",
   "id": "f358d4dd",
   "metadata": {},
   "source": [
    "#### Create Background spectral model object"
   ]
  },
  {
   "cell_type": "code",
   "execution_count": 13,
   "id": "42a81380",
   "metadata": {},
   "outputs": [
    {
     "name": "stdout",
     "output_type": "stream",
     "text": [
      "Background2D\n",
      "------------\n",
      "\n",
      "  axes  : ['energy', 'offset']\n",
      "  shape : (126, 5)\n",
      "  ndim  : 2\n",
      "  unit  : 1 / (keV s sr)\n",
      "  dtype : float64\n",
      "\n"
     ]
    },
    {
     "data": {
      "image/png": "[encoded data removed]",
      "text/plain": [
       "<Figure size 720x576 with 5 Axes>"
      ]
     },
     "metadata": {
      "needs_background": "light"
     },
     "output_type": "display_data"
    }
   ],
   "source": [
    "# Prepare Background Matrix (as a function of energy and offset) as ndarray\n",
    "data_bak = np.ndarray( (axis_energy_reco.nbin, axis_offset.nbin) )\n",
    "for i in range(axis_offset.nbin):\n",
    "    data_bak.transpose()[i] = DaFr_bak['RATE'].to_numpy()\n",
    "\n",
    "# Instantiate Background object # I should add meta=metadata dictionary from header    \n",
    "bkg = Background2D(axes = [axis_energy_reco, axis_offset],\n",
    "                   data = data_bak,\n",
    "                   unit = unit_astro_bkg,\n",
    "                   fov_alignment = FoVAlignment.RADEC\n",
    "                  )\n",
    "\n",
    "# Print\n",
    "print(bkg)\n",
    "bkg.peek()"
   ]
  },
  {
   "cell_type": "code",
   "execution_count": 14,
   "id": "abb24e80",
   "metadata": {},
   "outputs": [
    {
     "name": "stdout",
     "output_type": "stream",
     "text": [
      "Background2D\n",
      "------------\n",
      "\n",
      "  axes  : ['energy', 'offset']\n",
      "  shape : (126, 5)\n",
      "  ndim  : 2\n",
      "  unit  : 1 / (keV s sr)\n",
      "  dtype : float64\n",
      " \n",
      " {'bounds_error': False, 'fill_value': 0.0} \n",
      " 1 / (MeV s sr) \n",
      " FoVAlignment.RADEC \n",
      " Has offset axis True \n",
      " Is_pointlike False \n",
      " ['energy', 'offset'] \n",
      " bkg_2d \n",
      " 1 / (keV s sr) \n",
      "\n"
     ]
    }
   ],
   "source": [
    "print(bkg,'\\n',\n",
    "      bkg.default_interp_kwargs,'\\n',\n",
    "      bkg.default_unit,'\\n',\n",
    "      bkg.fov_alignment,'\\n',\n",
    "      'Has offset axis',bkg.has_offset_axis,'\\n',\n",
    "      'Is_pointlike',bkg.is_pointlike,'\\n',\n",
    "      bkg.required_axes,'\\n',\n",
    "      bkg.tag,'\\n',\n",
    "      bkg.unit,'\\n',\n",
    "     )\n",
    "\n",
    "#irfs['bkg'].peek()"
   ]
  },
  {
   "cell_type": "markdown",
   "id": "36ef8e7e",
   "metadata": {},
   "source": [
    "#### Define a diagional Energy Dispersion Matrix"
   ]
  },
  {
   "cell_type": "code",
   "execution_count": 15,
   "id": "b03b6a8b",
   "metadata": {},
   "outputs": [
    {
     "name": "stdout",
     "output_type": "stream",
     "text": [
      "EnergyDispersion2D\n",
      "------------------\n",
      "\n",
      "  axes  : ['energy_true', 'migra', 'offset']\n",
      "  shape : (138, 50, 5)\n",
      "  ndim  : 3\n",
      "  unit  : \n",
      "  dtype : float64\n",
      "\n"
     ]
    },
    {
     "data": {
      "image/png": "[encoded data removed]",
      "text/plain": [
       "<Figure size 1080x360 with 3 Axes>"
      ]
     },
     "metadata": {
      "needs_background": "light"
     },
     "output_type": "display_data"
    }
   ],
   "source": [
    "# Create Axis of Energy Migration\n",
    "axis_energy_migr = MapAxis.from_bounds(0.5, 1.5, nbin=50, name=\"migra\")\n",
    "\n",
    "# Instantiate Energy Dispersion Matrix object # I should add meta=metadata dictionary from header\n",
    "edisp = EnergyDispersion2D.from_gauss(energy_axis_true = axis_energy_true,\n",
    "                                      migra_axis       = axis_energy_migr,\n",
    "                                      offset_axis      = axis_offset,\n",
    "                                      bias             = 0,\n",
    "                                      sigma            = 0.1,\n",
    "                                      # interp           = 'lin' # Gaussian is in log\n",
    "                                     )\n",
    "\n",
    "# Print\n",
    "print(edisp)\n",
    "edisp.peek()"
   ]
  },
  {
   "cell_type": "markdown",
   "id": "b33554b6",
   "metadata": {},
   "source": [
    "#### Build IRFs object (dictionary)"
   ]
  },
  {
   "cell_type": "code",
   "execution_count": 16,
   "id": "1e78cc52",
   "metadata": {},
   "outputs": [],
   "source": [
    "IRFs = {'aeff': aeff,\n",
    "        'bkg': bkg,\n",
    "        'edisp': edisp\n",
    "       }"
   ]
  },
  {
   "cell_type": "markdown",
   "id": "8d04a165",
   "metadata": {},
   "source": [
    "### 2 - Define Temporal, Pointing and Geometry Information"
   ]
  },
  {
   "cell_type": "code",
   "execution_count": 17,
   "id": "6626a730",
   "metadata": {},
   "outputs": [
    {
     "data": {
      "text/plain": [
       "SIMPLE  =                    T / conforms to FITS standard                      \n",
       "BITPIX  =                    8 / array data type                                \n",
       "NAXIS   =                    0 / number of array dimensions                     \n",
       "EXTEND  =                    T                                                  \n",
       "CREATOR = 'GBM Data Tools 1.1.0 Software and version creating file'             \n",
       "FILETYPE= 'SPECTRUM'           / Name for this type of FITS file                \n",
       "FILE-VER= '1.0.0   '           / Version of the format for this filetype        \n",
       "TELESCOP= 'GLAST   '           / Name of mission/satellite                      \n",
       "INSTRUME= 'GBM     '           / Specific instrument used for observation       \n",
       "DETNAM  = 'BGO_00  '           / Individual detector name                       \n",
       "OBSERVER= 'Meegan  '           / GLAST Burst Monitor P.I.                       \n",
       "ORIGIN  = 'GIOC    '           / Name of organization making file               \n",
       "DATE    = '2022-04-26T12:32:22' / file creation date (YYYY-MM-DDThh:mm:ss UT)   \n",
       "DATE-OBS= '2012-03-23T12:10:19' / Date of start of observation                  \n",
       "DATE-END= '2012-03-23T12:10:20' / Date of end of observation                    \n",
       "TIMESYS = 'TT      '           / Time system used in time keywords              \n",
       "TIMEUNIT= 's       '           / Time since MJDREF, used in TSTART and TSTOP    \n",
       "MJDREFI =                51910 / MJD of GLAST reference epoch, integer part     \n",
       "MJDREFF = '7.428703703703703e-4' / MJD of GLAST reference epoch, fractional part\n",
       "TSTART  =     354197421.683142 / [GLAST MET] Observation start time             \n",
       "TSTOP   =     354197422.113142 / [GLAST MET] Observation stop time              \n",
       "FILENAME= 'GRB120323A_b0.pha'  / Name of this file                              \n",
       "TRIGTIME=     354197421.723142 / Trigger time relative to MJDREF, double precisi\n",
       "OBJECT  = 'GRB120323507'       / Burst name in standard format, yymmddfff       \n",
       "RADECSYS= 'FK5     '           / Stellar reference frame                        \n",
       "EQUINOX =               2000.0 / Equinox for RA and Dec                         \n",
       "RA_OBJ  =                 30.0 / Calculated RA of burst                         \n",
       "DEC_OBJ =                -15.0 / Calculated Dec of burst                        \n",
       "ERR_RAD =                  3.0 / Calculated Location Error Radius               \n",
       "INFILE01=  / Level 1 input lookup table file                                    \n",
       "CHECKSUM= 'RNAIRL7HRLAHRL5H'   / HDU checksum updated 2022-04-26T12:58:25       \n",
       "DATASUM = '0       '           / data unit checksum updated 2022-04-26T12:58:25 "
      ]
     },
     "execution_count": 17,
     "metadata": {},
     "output_type": "execute_result"
    }
   ],
   "source": [
    "# Load a file that contains information about the position\n",
    "file_pha = input_directory+'GRB120323A_b0.pha'\n",
    "\n",
    "hdul_pha = fits.open(file_pha)\n",
    "\n",
    "hdul_pha[0].header"
   ]
  },
  {
   "cell_type": "code",
   "execution_count": 18,
   "id": "2b096a66",
   "metadata": {},
   "outputs": [],
   "source": [
    "# Reference Time of the simulated observations\n",
    "ref_t0 = Time(\"2012-03-23T12:10:19\")  \n",
    "\n",
    "# Pointing Direction of the simulated observations\n",
    "pointing = SkyCoord(30.0, -15.0, unit=\"deg\", frame=\"fk5\")\n",
    "\n",
    "# Geometry object: FoV of the observation.\n",
    "geom = RegionGeom.create(\"fk5;circle(30.0, -15.0, 0.11)\", axes=[axis_energy_reco])"
   ]
  },
  {
   "cell_type": "code",
   "execution_count": 30,
   "id": "15f08663",
   "metadata": {},
   "outputs": [
    {
     "ename": "TypeError",
     "evalue": "is_equivalent_frame() missing 1 required positional argument: 'other'",
     "output_type": "error",
     "traceback": [
      "\u001b[0;31m---------------------------------------------------------------------------\u001b[0m",
      "\u001b[0;31mTypeError\u001b[0m                                 Traceback (most recent call last)",
      "Input \u001b[0;32mIn [30]\u001b[0m, in \u001b[0;36m<cell line: 1>\u001b[0;34m()\u001b[0m\n\u001b[0;32m----> 1\u001b[0m \u001b[43mpointing\u001b[49m\u001b[38;5;241;43m.\u001b[39;49m\u001b[43mis_equivalent_frame\u001b[49m\u001b[43m(\u001b[49m\u001b[43m)\u001b[49m\n",
      "\u001b[0;31mTypeError\u001b[0m: is_equivalent_frame() missing 1 required positional argument: 'other'"
     ]
    }
   ],
   "source": [
    "pointing.is_equivalent_frame()"
   ]
  },
  {
   "cell_type": "markdown",
   "id": "1690f18b",
   "metadata": {},
   "source": [
    "### 3 - Define Temporal and Spectral Model for the simulated source"
   ]
  },
  {
   "cell_type": "code",
   "execution_count": 19,
   "id": "8651f6bc",
   "metadata": {},
   "outputs": [
    {
     "name": "stderr",
     "output_type": "stream",
     "text": [
      "/home/gabriele/anaconda3/envs/gammapy-0.20/lib/python3.8/site-packages/astropy/units/quantity.py:613: RuntimeWarning: overflow encountered in exp\n",
      "  result = super().__array_ufunc__(function, method, *arrays, **kwargs)\n",
      "/home/gabriele/anaconda3/envs/gammapy-0.20/lib/python3.8/site-packages/astropy/units/quantity.py:613: RuntimeWarning: invalid value encountered in subtract\n",
      "  result = super().__array_ufunc__(function, method, *arrays, **kwargs)\n"
     ]
    }
   ],
   "source": [
    "# Spectral model\n",
    "spectral_model = ExpCutoffPowerLaw3FGLSpectralModel(\n",
    "    index     = 2.3 * u.Unit(\"\"),\n",
    "    amplitude = \"1e-3 cm-2 s-1 keV-1\",\n",
    "    reference = \"1 MeV\",\n",
    "    ecut      = 10.0*u.MeV,\n",
    ")\n",
    "\n",
    "# Temporal model\n",
    "temporal_model = ExpDecayTemporalModel(\n",
    "    t0    = \"2 h\",\n",
    "    t_ref = ref_t0.mjd * u.d\n",
    ")\n",
    "\n",
    "# Complete Source Model = Temporal & Spectral\n",
    "model_simu = SkyModel(\n",
    "    spectral_model = spectral_model,\n",
    "    temporal_model = temporal_model,\n",
    "    name           = \"model-simu\"\n",
    ")"
   ]
  },
  {
   "cell_type": "code",
   "execution_count": 20,
   "id": "194b26a5",
   "metadata": {},
   "outputs": [
    {
     "data": {
      "image/png": "[encoded data removed]",
      "text/plain": [
       "<Figure size 432x288 with 1 Axes>"
      ]
     },
     "metadata": {
      "needs_background": "light"
     },
     "output_type": "display_data"
    },
    {
     "data": {
      "image/png": "[encoded data removed]",
      "text/plain": [
       "<Figure size 432x288 with 1 Axes>"
      ]
     },
     "metadata": {
      "needs_background": "light"
     },
     "output_type": "display_data"
    },
    {
     "data": {
      "text/html": [
       "<div><i>Table length=6</i>\n",
       "<table id=\"table140670513673024\" class=\"table-striped table-bordered table-condensed\">\n",
       "<thead><tr><th>type</th><th>name</th><th>value</th><th>unit</th><th>error</th><th>min</th><th>max</th><th>frozen</th><th>is_norm</th><th>link</th></tr></thead>\n",
       "<thead><tr><th>str8</th><th>str9</th><th>float64</th><th>str14</th><th>int64</th><th>float64</th><th>float64</th><th>bool</th><th>bool</th><th>str1</th></tr></thead>\n",
       "<tr><td>spectral</td><td>index</td><td>2.3000e+00</td><td></td><td>0.000e+00</td><td>nan</td><td>nan</td><td>False</td><td>False</td><td></td></tr>\n",
       "<tr><td>spectral</td><td>amplitude</td><td>1.0000e-03</td><td>cm-2 keV-1 s-1</td><td>0.000e+00</td><td>nan</td><td>nan</td><td>False</td><td>True</td><td></td></tr>\n",
       "<tr><td>spectral</td><td>reference</td><td>1.0000e+00</td><td>MeV</td><td>0.000e+00</td><td>nan</td><td>nan</td><td>True</td><td>False</td><td></td></tr>\n",
       "<tr><td>spectral</td><td>ecut</td><td>1.0000e+01</td><td>MeV</td><td>0.000e+00</td><td>nan</td><td>nan</td><td>False</td><td>False</td><td></td></tr>\n",
       "<tr><td>temporal</td><td>t0</td><td>2.0000e+00</td><td>h</td><td>0.000e+00</td><td>nan</td><td>nan</td><td>False</td><td>False</td><td></td></tr>\n",
       "<tr><td>temporal</td><td>t_ref</td><td>5.6010e+04</td><td>d</td><td>0.000e+00</td><td>nan</td><td>nan</td><td>True</td><td>False</td><td></td></tr>\n",
       "</table></div>"
      ],
      "text/plain": [
       "<Table length=6>\n",
       "  type      name     value         unit        error     min     max   frozen is_norm link\n",
       "  str8      str9    float64       str14        int64   float64 float64  bool    bool  str1\n",
       "-------- --------- ---------- -------------- --------- ------- ------- ------ ------- ----\n",
       "spectral     index 2.3000e+00                0.000e+00     nan     nan  False   False     \n",
       "spectral amplitude 1.0000e-03 cm-2 keV-1 s-1 0.000e+00     nan     nan  False    True     \n",
       "spectral reference 1.0000e+00            MeV 0.000e+00     nan     nan   True   False     \n",
       "spectral      ecut 1.0000e+01            MeV 0.000e+00     nan     nan  False   False     \n",
       "temporal        t0 2.0000e+00              h 0.000e+00     nan     nan  False   False     \n",
       "temporal     t_ref 5.6010e+04              d 0.000e+00     nan     nan   True   False     "
      ]
     },
     "execution_count": 20,
     "metadata": {},
     "output_type": "execute_result"
    }
   ],
   "source": [
    "# Print\n",
    "energy_bounds = [axis_energy_true.edges[0], axis_energy_true.edges[-1]]\n",
    "spectral_model.plot(energy_bounds)\n",
    "plt.grid(which=\"both\")\n",
    "plt.show()\n",
    "\n",
    "time_range = [ref_t0-1.0*u.h, ref_t0 + 5.*u.h]\n",
    "temporal_model.plot(time_range)\n",
    "plt.grid(which=\"both\")\n",
    "plt.show()\n",
    "\n",
    "model_simu.parameters.to_table()"
   ]
  },
  {
   "cell_type": "markdown",
   "id": "7cc58ebd",
   "metadata": {},
   "source": [
    "### 4 - Define observation number, start and duration"
   ]
  },
  {
   "cell_type": "code",
   "execution_count": 21,
   "id": "46576144",
   "metadata": {},
   "outputs": [],
   "source": [
    "n_obs = 30         # Number of observations = number of Flux points\n",
    "live_t_obs = 10    # Time duration of each observation\n",
    "dead_t_obs = 1     # Rest time between observations\n",
    "unit_t_obs = u.min # Unit of measure of the time duration\n",
    "t_first_ob = 0.0   # Starting time of the first observation wrt reference time"
   ]
  },
  {
   "cell_type": "code",
   "execution_count": 22,
   "id": "ce4440fb",
   "metadata": {},
   "outputs": [],
   "source": [
    "# Livetimes = Duration of the observations\n",
    "livetimes = np.full(n_obs, live_t_obs).tolist()* unit_t_obs\n",
    "\n",
    "# Starting Time of Each observation\n",
    "t_stop = n_obs * (live_t_obs + dead_t_obs)\n",
    "starting_times = np.linspace(t_first_ob, t_stop, num=n_obs, endpoint=False).tolist() * unit_t_obs\n",
    "\n",
    "# Create SpectrumDataset object.\n",
    "# This is used to pass Geometry and Energy information to each observation inside the loop\n",
    "empty = SpectrumDataset.create(geom = geom,\n",
    "                               energy_axis_true = axis_energy_true,\n",
    "                               name =\"empty\")\n",
    "\n",
    "# Create Maker object, that makes spectrum for a single IACT observation\n",
    "# selection = creates the maps requested. The only one not added here is 'counts'\n",
    "maker = SpectrumDatasetMaker(selection=[\"exposure\", \"background\", \"edisp\"])\n",
    "\n",
    "# Create Datasets object, a collection of n_obs Dataset\n",
    "# that store the results of the simulated observation\n",
    "datasets = Datasets()"
   ]
  },
  {
   "cell_type": "code",
   "execution_count": 102,
   "id": "b62f415c",
   "metadata": {},
   "outputs": [
    {
     "name": "stdout",
     "output_type": "stream",
     "text": [
      "<gammapy.data.pointing.FixedPointingInfo object at 0x7ff0605860d0>\n",
      "<SkyCoord (FK5: equinox=J2000.000): (ra, dec) in deg\n",
      "    [[(30., -15.)]]>\n",
      "<gammapy.data.pointing.FixedPointingInfo object at 0x7ff0605860d0>\n",
      "<gammapy.data.pointing.FixedPointingInfo object at 0x7ff0605860d0>\n",
      "False\n"
     ]
    },
    {
     "ename": "TypeError",
     "evalue": "Tried to do is_equivalent_frame on something that isn't frame-like",
     "output_type": "error",
     "traceback": [
      "\u001b[0;31m---------------------------------------------------------------------------\u001b[0m",
      "\u001b[0;31mTypeError\u001b[0m                                 Traceback (most recent call last)",
      "File \u001b[0;32m<timed exec>:44\u001b[0m, in \u001b[0;36m<module>\u001b[0;34m\u001b[0m\n",
      "File \u001b[0;32m~/anaconda3/envs/gammapy-0.20/lib/python3.8/site-packages/gammapy/makers/map.py:370\u001b[0m, in \u001b[0;36mMapDatasetMaker.run\u001b[0;34m(self, dataset, observation)\u001b[0m\n\u001b[1;32m    367\u001b[0m     kwargs[\u001b[38;5;124m\"\u001b[39m\u001b[38;5;124mexposure\u001b[39m\u001b[38;5;124m\"\u001b[39m] \u001b[38;5;241m=\u001b[39m exposure\n\u001b[1;32m    369\u001b[0m \u001b[38;5;28;01mif\u001b[39;00m \u001b[38;5;124m\"\u001b[39m\u001b[38;5;124mbackground\u001b[39m\u001b[38;5;124m\"\u001b[39m \u001b[38;5;129;01min\u001b[39;00m \u001b[38;5;28mself\u001b[39m\u001b[38;5;241m.\u001b[39mselection:\n\u001b[0;32m--> 370\u001b[0m     kwargs[\u001b[38;5;124m\"\u001b[39m\u001b[38;5;124mbackground\u001b[39m\u001b[38;5;124m\"\u001b[39m] \u001b[38;5;241m=\u001b[39m \u001b[38;5;28;43mself\u001b[39;49m\u001b[38;5;241;43m.\u001b[39;49m\u001b[43mmake_background\u001b[49m\u001b[43m(\u001b[49m\n\u001b[1;32m    371\u001b[0m \u001b[43m        \u001b[49m\u001b[43mdataset\u001b[49m\u001b[38;5;241;43m.\u001b[39;49m\u001b[43mcounts\u001b[49m\u001b[38;5;241;43m.\u001b[39;49m\u001b[43mgeom\u001b[49m\u001b[43m,\u001b[49m\u001b[43m \u001b[49m\u001b[43mobservation\u001b[49m\n\u001b[1;32m    372\u001b[0m \u001b[43m    \u001b[49m\u001b[43m)\u001b[49m\n\u001b[1;32m    374\u001b[0m \u001b[38;5;28;01mif\u001b[39;00m \u001b[38;5;124m\"\u001b[39m\u001b[38;5;124mpsf\u001b[39m\u001b[38;5;124m\"\u001b[39m \u001b[38;5;129;01min\u001b[39;00m \u001b[38;5;28mself\u001b[39m\u001b[38;5;241m.\u001b[39mselection:\n\u001b[1;32m    375\u001b[0m     psf \u001b[38;5;241m=\u001b[39m \u001b[38;5;28mself\u001b[39m\u001b[38;5;241m.\u001b[39mmake_psf(dataset\u001b[38;5;241m.\u001b[39mpsf\u001b[38;5;241m.\u001b[39mpsf_map\u001b[38;5;241m.\u001b[39mgeom, observation)\n",
      "File \u001b[0;32m~/anaconda3/envs/gammapy-0.20/lib/python3.8/site-packages/gammapy/makers/map.py:218\u001b[0m, in \u001b[0;36mMapDatasetMaker.make_background\u001b[0;34m(self, geom, observation)\u001b[0m\n\u001b[1;32m    215\u001b[0m \u001b[38;5;28;01mif\u001b[39;00m \u001b[38;5;28mself\u001b[39m\u001b[38;5;241m.\u001b[39mbackground_interp_missing_data:\n\u001b[1;32m    216\u001b[0m     bkg\u001b[38;5;241m.\u001b[39minterp_missing_data(axis_name\u001b[38;5;241m=\u001b[39m\u001b[38;5;124m\"\u001b[39m\u001b[38;5;124menergy\u001b[39m\u001b[38;5;124m\"\u001b[39m)\n\u001b[0;32m--> 218\u001b[0m \u001b[38;5;28;01mreturn\u001b[39;00m \u001b[43mmake_map_background_irf\u001b[49m\u001b[43m(\u001b[49m\n\u001b[1;32m    219\u001b[0m \u001b[43m    \u001b[49m\u001b[43mpointing\u001b[49m\u001b[38;5;241;43m=\u001b[39;49m\u001b[43mobservation\u001b[49m\u001b[38;5;241;43m.\u001b[39;49m\u001b[43mfixed_pointing_info\u001b[49m\u001b[43m,\u001b[49m\n\u001b[1;32m    220\u001b[0m \u001b[43m    \u001b[49m\u001b[43montime\u001b[49m\u001b[38;5;241;43m=\u001b[39;49m\u001b[43mobservation\u001b[49m\u001b[38;5;241;43m.\u001b[39;49m\u001b[43mobservation_time_duration\u001b[49m\u001b[43m,\u001b[49m\n\u001b[1;32m    221\u001b[0m \u001b[43m    \u001b[49m\u001b[43mbkg\u001b[49m\u001b[38;5;241;43m=\u001b[39;49m\u001b[43mbkg\u001b[49m\u001b[43m,\u001b[49m\n\u001b[1;32m    222\u001b[0m \u001b[43m    \u001b[49m\u001b[43mgeom\u001b[49m\u001b[38;5;241;43m=\u001b[39;49m\u001b[43mgeom\u001b[49m\u001b[43m,\u001b[49m\n\u001b[1;32m    223\u001b[0m \u001b[43m    \u001b[49m\u001b[43moversampling\u001b[49m\u001b[38;5;241;43m=\u001b[39;49m\u001b[38;5;28;43mself\u001b[39;49m\u001b[38;5;241;43m.\u001b[39;49m\u001b[43mbackground_oversampling\u001b[49m\u001b[43m,\u001b[49m\n\u001b[1;32m    224\u001b[0m \u001b[43m    \u001b[49m\u001b[43muse_region_center\u001b[49m\u001b[38;5;241;43m=\u001b[39;49m\u001b[43muse_region_center\u001b[49m\u001b[43m,\u001b[49m\n\u001b[1;32m    225\u001b[0m \u001b[43m\u001b[49m\u001b[43m)\u001b[49m\n",
      "File \u001b[0;32m~/anaconda3/envs/gammapy-0.20/lib/python3.8/site-packages/gammapy/makers/utils.py:166\u001b[0m, in \u001b[0;36mmake_map_background_irf\u001b[0;34m(pointing, ontime, bkg, geom, oversampling, use_region_center)\u001b[0m\n\u001b[1;32m    163\u001b[0m     d_omega \u001b[38;5;241m=\u001b[39m image_geom\u001b[38;5;241m.\u001b[39msolid_angle()\n\u001b[1;32m    165\u001b[0m \u001b[38;5;28;01mif\u001b[39;00m bkg\u001b[38;5;241m.\u001b[39mhas_offset_axis:\n\u001b[0;32m--> 166\u001b[0m     coords[\u001b[38;5;124m\"\u001b[39m\u001b[38;5;124moffset\u001b[39m\u001b[38;5;124m\"\u001b[39m] \u001b[38;5;241m=\u001b[39m \u001b[43msky_coord\u001b[49m\u001b[38;5;241;43m.\u001b[39;49m\u001b[43mseparation\u001b[49m\u001b[43m(\u001b[49m\u001b[43mpointing\u001b[49m\u001b[43m)\u001b[49m\n\u001b[1;32m    167\u001b[0m \u001b[38;5;28;01melse\u001b[39;00m:\n\u001b[1;32m    168\u001b[0m     \u001b[38;5;28;01mif\u001b[39;00m bkg\u001b[38;5;241m.\u001b[39mfov_alignment \u001b[38;5;241m==\u001b[39m FoVAlignment\u001b[38;5;241m.\u001b[39mALTAZ:\n",
      "File \u001b[0;32m~/anaconda3/envs/gammapy-0.20/lib/python3.8/site-packages/astropy/coordinates/sky_coordinate.py:1133\u001b[0m, in \u001b[0;36mSkyCoord.separation\u001b[0;34m(self, other)\u001b[0m\n\u001b[1;32m   1130\u001b[0m \u001b[38;5;28;01mfrom\u001b[39;00m \u001b[38;5;21;01m.\u001b[39;00m \u001b[38;5;28;01mimport\u001b[39;00m Angle\n\u001b[1;32m   1131\u001b[0m \u001b[38;5;28;01mfrom\u001b[39;00m \u001b[38;5;21;01m.\u001b[39;00m\u001b[38;5;21;01mangle_utilities\u001b[39;00m \u001b[38;5;28;01mimport\u001b[39;00m angular_separation\n\u001b[0;32m-> 1133\u001b[0m \u001b[38;5;28;01mif\u001b[39;00m \u001b[38;5;129;01mnot\u001b[39;00m \u001b[38;5;28;43mself\u001b[39;49m\u001b[38;5;241;43m.\u001b[39;49m\u001b[43mis_equivalent_frame\u001b[49m\u001b[43m(\u001b[49m\u001b[43mother\u001b[49m\u001b[43m)\u001b[49m:\n\u001b[1;32m   1134\u001b[0m     \u001b[38;5;28;01mtry\u001b[39;00m:\n\u001b[1;32m   1135\u001b[0m         kwargs \u001b[38;5;241m=\u001b[39m {\u001b[38;5;124m'\u001b[39m\u001b[38;5;124mmerge_attributes\u001b[39m\u001b[38;5;124m'\u001b[39m: \u001b[38;5;28;01mFalse\u001b[39;00m} \u001b[38;5;28;01mif\u001b[39;00m \u001b[38;5;28misinstance\u001b[39m(other, SkyCoord) \u001b[38;5;28;01melse\u001b[39;00m {}\n",
      "File \u001b[0;32m~/anaconda3/envs/gammapy-0.20/lib/python3.8/site-packages/astropy/coordinates/sky_coordinate.py:1093\u001b[0m, in \u001b[0;36mSkyCoord.is_equivalent_frame\u001b[0;34m(self, other)\u001b[0m\n\u001b[1;32m   1090\u001b[0m     \u001b[38;5;28;01mreturn\u001b[39;00m \u001b[38;5;28;01mTrue\u001b[39;00m\n\u001b[1;32m   1091\u001b[0m \u001b[38;5;28;01melse\u001b[39;00m:\n\u001b[1;32m   1092\u001b[0m     \u001b[38;5;66;03m# not a BaseCoordinateFrame nor a SkyCoord object\u001b[39;00m\n\u001b[0;32m-> 1093\u001b[0m     \u001b[38;5;28;01mraise\u001b[39;00m \u001b[38;5;167;01mTypeError\u001b[39;00m(\u001b[38;5;124m\"\u001b[39m\u001b[38;5;124mTried to do is_equivalent_frame on something that \u001b[39m\u001b[38;5;124m\"\u001b[39m\n\u001b[1;32m   1094\u001b[0m                     \u001b[38;5;124m\"\u001b[39m\u001b[38;5;124misn\u001b[39m\u001b[38;5;124m'\u001b[39m\u001b[38;5;124mt frame-like\u001b[39m\u001b[38;5;124m\"\u001b[39m)\n",
      "\u001b[0;31mTypeError\u001b[0m: Tried to do is_equivalent_frame on something that isn't frame-like"
     ]
    }
   ],
   "source": [
    "%%time\n",
    "for idx in range(n_obs):\n",
    "    # Create an empty observation object with given Pointing, IRFs, ObservationTimes.\n",
    "    obs = Observation.create(\n",
    "        pointing      = pointing,\n",
    "        livetime      = livetimes[idx],\n",
    "        tstart        = starting_times[idx],\n",
    "        irfs          = IRFs,\n",
    "        reference_time= ref_t0,\n",
    "        obs_id        = idx,\n",
    "        #In gammapy-0.20 maybe we need 'location'\n",
    "    )\n",
    "    # Copy empty SpectrumDataset from above to pass Geometry and Energy Axis.\n",
    "    empty_i = empty.copy(name=f\"dataset-{idx}\")\n",
    "    \n",
    "    ###DEBUG # DA PASSARE A make_map_background_irf\n",
    "    #print(empty_i.counts.geom)\n",
    "    \n",
    "    from gammapy.maps import Map\n",
    "    \n",
    "    print(obs.fixed_pointing_info)\n",
    "    #print(obs.observation_time_duration)\n",
    "    #print(obs.bkg)\n",
    "    #print(geom)\n",
    "    #print(maker.background_oversampling)\n",
    "    #print(maker.use_region_center)\n",
    "    \n",
    "    #print(obs)\n",
    "    #print(obs.fixed_pointing_info.time_ref)\n",
    "    print(geom.to_image().get_coord().skycoord)\n",
    "    print(obs.fixed_pointing_info)\n",
    "    \n",
    "    \n",
    "    from astropy.coordinates import SkyCoord\n",
    "    other=obs.fixed_pointing_info\n",
    "    print(other)\n",
    "    print(isinstance(other, SkyCoord))\n",
    "    \n",
    "    \n",
    "    \n",
    "    #print(geom.to_image().get_coord().skycoord.separation(obs.fixed_pointing_info))\n",
    "    ###DEBUG\n",
    "    \n",
    "    # Define new MapDataset that stores the observation, from the empty_i reference Dataset\n",
    "    dataset = maker.run(empty_i, obs)\n",
    "    \n",
    "    # The Dataset now contains Geometry, Energy, Pointing, IRFs and ObservationTimes.\n",
    "    # We just need to add the source model.\n",
    "    dataset.models = model_simu\n",
    "    \n",
    "    # Simulate fake counts for the current model and reduced IRFs.\n",
    "    # This method overwrites the counts defined on the dataset object.\n",
    "    dataset.fake()\n",
    "    \n",
    "    # Add this dataset to our collection.\n",
    "    datasets.append(dataset)"
   ]
  },
  {
   "cell_type": "code",
   "execution_count": 24,
   "id": "31fd2715",
   "metadata": {},
   "outputs": [
    {
     "data": {
      "text/html": [
       "<div><i>Table length=0</i>\n",
       "<table id=\"table140670512625984\" class=\"table-striped table-bordered table-condensed\">\n",
       "<thead><tr><th>NAME</th><th>TYPE</th></tr></thead>\n",
       "<thead><tr><th>float64</th><th>float64</th></tr></thead>\n",
       "</table></div>"
      ],
      "text/plain": [
       "<Table length=0>\n",
       "  NAME    TYPE \n",
       "float64 float64\n",
       "------- -------"
      ]
     },
     "execution_count": 24,
     "metadata": {},
     "output_type": "execute_result"
    }
   ],
   "source": [
    "datasets.meta_table"
   ]
  },
  {
   "cell_type": "code",
   "execution_count": 25,
   "id": "a1c53a90",
   "metadata": {},
   "outputs": [
    {
     "ename": "ValueError",
     "evalue": "Info table not supported for mixed dataset type.",
     "output_type": "error",
     "traceback": [
      "\u001b[0;31m---------------------------------------------------------------------------\u001b[0m",
      "\u001b[0;31mValueError\u001b[0m                                Traceback (most recent call last)",
      "Input \u001b[0;32mIn [25]\u001b[0m, in \u001b[0;36m<cell line: 2>\u001b[0;34m()\u001b[0m\n\u001b[1;32m      1\u001b[0m show_columns \u001b[38;5;241m=\u001b[39m [\u001b[38;5;124m'\u001b[39m\u001b[38;5;124mname\u001b[39m\u001b[38;5;124m'\u001b[39m,\u001b[38;5;124m'\u001b[39m\u001b[38;5;124mcounts\u001b[39m\u001b[38;5;124m'\u001b[39m, \u001b[38;5;124m'\u001b[39m\u001b[38;5;124mbackground\u001b[39m\u001b[38;5;124m'\u001b[39m,\u001b[38;5;124m'\u001b[39m\u001b[38;5;124mexcess\u001b[39m\u001b[38;5;124m'\u001b[39m,\u001b[38;5;124m'\u001b[39m\u001b[38;5;124mlivetime\u001b[39m\u001b[38;5;124m'\u001b[39m,\u001b[38;5;124m'\u001b[39m\u001b[38;5;124msqrt_ts\u001b[39m\u001b[38;5;124m'\u001b[39m,\u001b[38;5;124m'\u001b[39m\u001b[38;5;124mnpred\u001b[39m\u001b[38;5;124m'\u001b[39m,\u001b[38;5;124m'\u001b[39m\u001b[38;5;124mexposure_max\u001b[39m\u001b[38;5;124m'\u001b[39m,\u001b[38;5;124m'\u001b[39m\u001b[38;5;124mcounts_rate\u001b[39m\u001b[38;5;124m'\u001b[39m]\n\u001b[0;32m----> 2\u001b[0m \u001b[43mdatasets\u001b[49m\u001b[38;5;241;43m.\u001b[39;49m\u001b[43minfo_table\u001b[49m\u001b[43m(\u001b[49m\u001b[43m)\u001b[49m[\u001b[38;5;241m0\u001b[39m:\u001b[38;5;241m4\u001b[39m]\n\u001b[1;32m      3\u001b[0m datasets\u001b[38;5;241m.\u001b[39minfo_table()[show_columns]\n",
      "File \u001b[0;32m~/anaconda3/envs/gammapy-0.20/lib/python3.8/site-packages/gammapy/datasets/core.py:485\u001b[0m, in \u001b[0;36mDatasets.info_table\u001b[0;34m(self, cumulative)\u001b[0m\n\u001b[1;32m    472\u001b[0m \u001b[38;5;124;03m\"\"\"Get info table for datasets.\u001b[39;00m\n\u001b[1;32m    473\u001b[0m \n\u001b[1;32m    474\u001b[0m \u001b[38;5;124;03mParameters\u001b[39;00m\n\u001b[0;32m   (...)\u001b[0m\n\u001b[1;32m    482\u001b[0m \u001b[38;5;124;03m    Info table.\u001b[39;00m\n\u001b[1;32m    483\u001b[0m \u001b[38;5;124;03m\"\"\"\u001b[39;00m\n\u001b[1;32m    484\u001b[0m \u001b[38;5;28;01mif\u001b[39;00m \u001b[38;5;129;01mnot\u001b[39;00m \u001b[38;5;28mself\u001b[39m\u001b[38;5;241m.\u001b[39mis_all_same_type:\n\u001b[0;32m--> 485\u001b[0m     \u001b[38;5;28;01mraise\u001b[39;00m \u001b[38;5;167;01mValueError\u001b[39;00m(\u001b[38;5;124m\"\u001b[39m\u001b[38;5;124mInfo table not supported for mixed dataset type.\u001b[39m\u001b[38;5;124m\"\u001b[39m)\n\u001b[1;32m    487\u001b[0m name \u001b[38;5;241m=\u001b[39m \u001b[38;5;124m\"\u001b[39m\u001b[38;5;124mstacked\u001b[39m\u001b[38;5;124m\"\u001b[39m \u001b[38;5;28;01mif\u001b[39;00m cumulative \u001b[38;5;28;01melse\u001b[39;00m \u001b[38;5;28mself\u001b[39m[\u001b[38;5;241m0\u001b[39m]\u001b[38;5;241m.\u001b[39mname\n\u001b[1;32m    488\u001b[0m stacked \u001b[38;5;241m=\u001b[39m \u001b[38;5;28mself\u001b[39m[\u001b[38;5;241m0\u001b[39m]\u001b[38;5;241m.\u001b[39mto_masked(name\u001b[38;5;241m=\u001b[39mname)\n",
      "\u001b[0;31mValueError\u001b[0m: Info table not supported for mixed dataset type."
     ]
    }
   ],
   "source": [
    "show_columns = ['name','counts', 'background','excess','livetime','sqrt_ts','npred','exposure_max','counts_rate']\n",
    "datasets.info_table()[0:4]\n",
    "datasets.info_table()[show_columns]#[1:4]"
   ]
  },
  {
   "cell_type": "code",
   "execution_count": null,
   "id": "c2b591fc",
   "metadata": {},
   "outputs": [],
   "source": [
    "datasets[0].peek()\n",
    "plt.show()\n",
    "datasets[1].peek()\n",
    "plt.show()\n",
    "datasets[2].peek()\n",
    "plt.show()"
   ]
  },
  {
   "cell_type": "code",
   "execution_count": null,
   "id": "c000bfea",
   "metadata": {},
   "outputs": [],
   "source": [
    "# Drop the Temperal Model, attach only the Spectral Model to all SpectrumDataset objects\n",
    "datasets.models = SkyModel(spectral_model=spectral_model, name=\"model-fit\")\n",
    "datasets.models.to_parameters_table()"
   ]
  },
  {
   "cell_type": "code",
   "execution_count": null,
   "id": "36fe79a7",
   "metadata": {},
   "outputs": [],
   "source": [
    "# Estimate a Flux Points light curve, each point is the flux of an observation\n",
    "# The estimator fits the norm of the source model component to datasets in each time interval GTI.\n",
    "#%%time\n",
    "lc_maker_1d = LightCurveEstimator(energy_edges = [axis_energy.edges[0], axis_energy.edges[-1]],\n",
    "                                  source = \"model-fit\",\n",
    "                                  selection_optional = [\"ul\"]\n",
    "                                 )\n",
    "# \"all\": all the optional steps are executed\n",
    "# \"errn-errp\": estimate asymmetric errors.\n",
    "# \"ul\": estimate upper limits.\n",
    "# \"scan\": estimate fit statistic profiles.\n",
    "\n",
    "lc_1d = lc_maker_1d.run(datasets)"
   ]
  },
  {
   "cell_type": "code",
   "execution_count": null,
   "id": "880adfb9",
   "metadata": {},
   "outputs": [],
   "source": [
    "ax = lc_1d.plot(sed_type=\"flux\",# \"dnde\", “flux”, “eflux”, “e2dnde”}\n",
    "                #energy_power=1.0#Power of energy to multiply flux axis with\n",
    "                marker=\"o\",\n",
    "                label=\"ExpDecay2h\")\n",
    "\n",
    "pl_start = ref_t0 - 1.*u.h\n",
    "pl_end   = ref_t0 + 6.*u.h\n",
    "ax.set_xlim(pl_start.plot_date,pl_end.plot_date)\n"
   ]
  },
  {
   "cell_type": "code",
   "execution_count": null,
   "id": "f0c69cf8",
   "metadata": {},
   "outputs": [],
   "source": []
  }
 ],
 "metadata": {
  "kernelspec": {
   "display_name": "Python 3 (ipykernel)",
   "language": "python",
   "name": "python3"
  },
  "language_info": {
   "codemirror_mode": {
    "name": "ipython",
    "version": 3
   },
   "file_extension": ".py",
   "mimetype": "text/x-python",
   "name": "python",
   "nbconvert_exporter": "python",
   "pygments_lexer": "ipython3",
   "version": "3.8.13"
  },
  "varInspector": {
   "cols": {
    "lenName": 16,
    "lenType": 16,
    "lenVar": 40
   },
   "kernels_config": {
    "python": {
     "delete_cmd_postfix": "",
     "delete_cmd_prefix": "del ",
     "library": "var_list.py",
     "varRefreshCmd": "print(var_dic_list())"
    },
    "r": {
     "delete_cmd_postfix": ") ",
     "delete_cmd_prefix": "rm(",
     "library": "var_list.r",
     "varRefreshCmd": "cat(var_dic_list()) "
    }
   },
   "types_to_exclude": [
    "module",
    "function",
    "builtin_function_or_method",
    "instance",
    "_Feature"
   ],
   "window_display": false
  }
 },
 "nbformat": 4,
 "nbformat_minor": 5
}
